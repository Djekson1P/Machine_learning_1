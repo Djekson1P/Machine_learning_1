{
 "cells": [
  {
   "cell_type": "markdown",
   "metadata": {},
   "source": [
    "\n",
    "Зачастую наборы данных которые поступают для анализа и обработки находятся в непослесдовательном состоянии, и порой необходимо упорядочить данные для дальнейших обработок. На данный момент создано достаточно много алгоритмов сортировок. Есть и встроенные функции, притом функции как в базовых языках, так и в библиотеках. На практике конечно лучше все таки пользоваться библиотеками, потому весь процесс сортировки может свестись к одной строчке кода(Ладно пару тройку, надо все таки вызвать библиотеку, и возможно выделить в отдельный массив необходимую для сортировки часть). А во вторых это может быть быстрее чем возможности встроенного языка, в первую очередь Python. Безусловно есть языки более производительные чем Python в которых может иметь смысл расписывать функции сортировок. Тут на усмотрение каждого. Лично я стараюсь по возможности пользоваться готовыми стеками и функциями.\n",
    "\n",
    "Тем не менее для познания рассмотрим классические виды сортировок. Использовать будем Python без библиотек.\n"
   ]
  },
  {
   "cell_type": "markdown",
   "metadata": {},
   "source": [
    "Пузырьковая сортировка (Bubble Sort).\n",
    "\n",
    "Этот самый простой алгоритм сортировки который выполняет итерации по списку, сравнивая элементы попарно и меняя их местами, пока более крупные элементы не перестанут «всплывать» до конца списка, а более мелкие элементы не будут оставаться «снизу».\n",
    "\n",
    "Начнем со сравнения первых двух элементов списка. Если первый элемент больше второго, мы меняем их местами. Если они уже в нужном порядке, мы оставляем их как есть. Затем мы переходим к следующей паре элементов, сравниваем их значения и меняем местами при необходимости. Этот процесс продолжается до последней пары элементов в списке.\n",
    "\n",
    "Достигнув конца списка, повторяем этот процесс для каждого элемента снова. Хотя это крайне неэффективно. Что если в массиве нужно сделать только одну замену? Почему мы все еще повторяем, даже если список уже отсортирован? Получается нам нужно пройти список n^2 раза.\n",
    "\n",
    "Очевидно, что для оптимизации алгоритма нам нужно остановить его, когда он закончит сортировку.\n",
    "\n",
    "Откуда нам знать, что мы закончили сортировку? Если бы элементы были отсортированы, то нам не пришлось бы их менять местами. Таким образом, всякий раз, когда мы меняем элементы, мы устанавливаем флаг в True, чтобы повторить процесс сортировки. Если перестановок не произошло, флаг останется False, и алгоритм остановится."
   ]
  },
  {
   "cell_type": "code",
   "execution_count": 1,
   "metadata": {},
   "outputs": [],
   "source": [
    "# Подгрузим библиотеку Time для вычесления времени\n",
    "import time\n",
    "\n",
    "import numpy as np\n",
    "import pandas as pd\n"
   ]
  },
  {
   "cell_type": "code",
   "execution_count": 2,
   "metadata": {},
   "outputs": [
    {
     "name": "stdout",
     "output_type": "stream",
     "text": [
      "0.0\n"
     ]
    }
   ],
   "source": [
    "# Функция пузырьковой сортировки\n",
    "def bubble_sort(nums):  \n",
    "\n",
    "    # Засечем время\n",
    "    start_time    = time.time()\n",
    "    # We set swapped to True so the loop looks runs at least once\n",
    "    swapped = True\n",
    "    \n",
    "    while swapped:\n",
    "        \n",
    "        swapped = False\n",
    "        for i in range(len(nums) - 1):\n",
    "            \n",
    "            if nums[i] > nums[i + 1]:\n",
    "                # Swap the elements\n",
    "                \n",
    "                nums[i], nums[i + 1] = nums[i + 1], nums[i]\n",
    "                # Set the flag to True so we'll loop again\n",
    "                \n",
    "                swapped = True\n",
    "    \n",
    "    # Зафиксируем время\n",
    "    time_of_work_ = time.time() - start_time            \n",
    "    \n",
    "    return  time_of_work_              \n",
    "                \n",
    "# Verify it works\n",
    "random_list_of_nums = [5, 2, 1, 8, 4]  \n",
    "sort_result   = bubble_sort(random_list_of_nums) \n",
    "\n",
    "print(sort_result)  "
   ]
  },
  {
   "cell_type": "markdown",
   "metadata": {},
   "source": [
    "Алгоритм работает в цикле while, прерываясь только тогда, когда никакие элементы не меняются местами. Вначале мы установили для swapped значение True, чтобы алгоритм прошел по списку хотя бы один раз.\n",
    "\n",
    "Сложность пузырьковой сортировки в худшем случае (когда список отсортирован в обратном порядке) равна O(n^2)."
   ]
  },
  {
   "cell_type": "markdown",
   "metadata": {},
   "source": [
    "Сортировка выбором (Selection Sort)\n",
    "Этот алгоритм сегментирует список на две части: отсортированные и несортированные. Он постоянно удаляет наименьший элемент из несортированного сегмента списка и добавляет его в отсортированный сегмент.\n",
    "\n",
    "На практике нам не нужно создавать новый список для отсортированных элементов, мы будет обрабатывать крайнюю левую часть списка как отсортированный сегмент. Затем мы ищем во всем списке наименьший элемент и меняем его на первый элемент.\n",
    "\n",
    "Теперь мы знаем, что первый элемент списка отсортирован, мы получаем наименьший элемент из оставшихся элементов и заменяем его вторым элементом. Это повторяется до тех пор, пока последний элемент списка не станет оставшимся элементом для изучения."
   ]
  },
  {
   "cell_type": "code",
   "execution_count": 3,
   "metadata": {},
   "outputs": [
    {
     "name": "stdout",
     "output_type": "stream",
     "text": [
      "0.0\n"
     ]
    }
   ],
   "source": [
    "# Функция сортировки выбором\n",
    "def selection_sort(nums):  \n",
    "\n",
    "    # Засечем время\n",
    "    start_time    = time.time()\n",
    "    \n",
    "    # значение i соответствует тому, сколько значений было отсортировано\n",
    "    for i in range(len(nums)):\n",
    "        \n",
    "        # Мы предполагаем, что первый элемент несортированного сегмента является наименьшим\n",
    "        lowest_value_index = i\n",
    "        \n",
    "        # Этот цикл перебирает несортированные элементы\n",
    "        for j in range(i + 1, len(nums)):\n",
    "            \n",
    "            if nums[j] < nums[lowest_value_index]:\n",
    "                \n",
    "                lowest_value_index = j\n",
    "                \n",
    "        # Поменять местами значения самого низкого несортированного элемента с первым несортированным\n",
    "        nums[i], nums[lowest_value_index] = nums[lowest_value_index], nums[i]\n",
    "  \n",
    "\n",
    "    # Зафиксируем время\n",
    "    time_of_work_ = time.time() - start_time            \n",
    "    \n",
    "    return  time_of_work_          \n",
    "\n",
    "# Проверяем, что это работает\n",
    "random_list_of_nums = [12, 8, 3, 20, 11]\n",
    "sort_result   = selection_sort(random_list_of_nums) \n",
    "\n",
    "print(sort_result)  "
   ]
  },
  {
   "cell_type": "markdown",
   "metadata": {},
   "source": [
    "Мы видим, что по мере того как i увеличивается, нам нужно проверять все меньше элементов.\n",
    "\n",
    "Сложность сортировки выбором в среднем составляет O(n^2)."
   ]
  },
  {
   "cell_type": "markdown",
   "metadata": {},
   "source": [
    "Сортировка вставками (Insertion Sort)\n",
    "Как и Сортировка выбором, этот алгоритм сегментирует список на отсортированные и несортированные части. Он перебирает несортированный сегмент и вставляет просматриваемый элемент в правильную позицию отсортированного списка.\n",
    "\n",
    "Предполагается, что первый элемент списка отсортирован. Затем мы переходим к следующему элементу, назовем его х. Если x больше первого элемента, мы оставляем его как есть. Если x меньше, мы копируем значение первого элемента во вторую позицию и затем устанавливаем первый элемент в x.\n",
    "\n",
    "Когда мы переходим к другим элементам несортированного сегмента, мы непрерывно перемещаем более крупные элементы в отсортированном сегменте вверх по списку, пока не встретим элемент меньше x, или не достигнем конца отсортированного сегмента, а затем поместим x в его правильное положение."
   ]
  },
  {
   "cell_type": "code",
   "execution_count": 4,
   "metadata": {},
   "outputs": [
    {
     "name": "stdout",
     "output_type": "stream",
     "text": [
      "0.0\n"
     ]
    }
   ],
   "source": [
    "# Сортировка вставками (Insertion Sort)\n",
    "def insertion_sort(nums):  \n",
    "\n",
    "    # Засечем время\n",
    "    start_time    = time.time()\n",
    "    \n",
    "    # Начнем со второго элемента, так как мы предполагаем, что первый элемент отсортирован\n",
    "    for i in range(1, len(nums)):\n",
    "        \n",
    "        item_to_insert = nums[i]\n",
    "        \n",
    "        # И сохранить ссылку на индекс предыдущего элемента\n",
    "        j = i - 1\n",
    "        # Переместить все элементы отсортированного сегмента вперед, если они больше, чем элемент для вставки\n",
    "        while j >= 0 and nums[j] > item_to_insert:\n",
    "            nums[j + 1] = nums[j]\n",
    "            j -= 1\n",
    "        # Вставляем элемент\n",
    "        nums[j + 1] = item_to_insert\n",
    " \n",
    "\n",
    "    # Зафиксируем время\n",
    "    time_of_work_ = time.time() - start_time            \n",
    "    \n",
    "    return  time_of_work_     \n",
    "\n",
    "        \n",
    "# Проверяем, что это работает\n",
    "random_list_of_nums = [9, 1, 15, 28, 6] \n",
    "sort_result   = insertion_sort(random_list_of_nums) \n",
    "\n",
    "# Выводим время\n",
    "print(sort_result)  "
   ]
  },
  {
   "cell_type": "markdown",
   "metadata": {},
   "source": [
    "Сложность сортировки вставками в среднем равна O(n^2)."
   ]
  },
  {
   "cell_type": "markdown",
   "metadata": {},
   "source": [
    "Пирамидальная сортировка (Heap Sort) (англ. Heapsort, «Сортировка кучей») \n",
    "Этот популярный алгоритм сортировки, как сортировки вставками и выбором, сегментирует список на отсортированные и несортированные части. Он преобразует несортированный сегмент списка в структуру данных типа куча (heap), чтобы мы могли эффективно определить самый большой элемент.\n",
    "\n",
    "Мы начинаем с преобразования списка в Max Heap — бинарное дерево, где самым большим элементом является корневой узел. Затем мы помещаем этот элемент в конец списка. Затем мы восстанавливаем нашу Max Heap, которая теперь имеет на одно меньшее значение, помещая новое наибольшее значение перед последним элементом списка.\n",
    "\n",
    "Мы повторяем этот процесс построения кучи, пока все узлы не будут удалены."
   ]
  },
  {
   "cell_type": "code",
   "execution_count": 5,
   "metadata": {},
   "outputs": [
    {
     "name": "stdout",
     "output_type": "stream",
     "text": [
      "0.0\n"
     ]
    }
   ],
   "source": [
    "# Вспомогательная функция для выполнения сортировки:\n",
    "def heapify(nums, heap_size, root_index):  \n",
    "\n",
    "\n",
    "    \n",
    "    # Предположим, что индекс самого большого элемента является корневым индексом\n",
    "    largest = root_index\n",
    "    left_child = (2 * root_index) + 1\n",
    "    right_child = (2 * root_index) + 2\n",
    "    # Если левый потомок корня является допустимым индексом, а элемент больше\n",
    "    # чем текущий самый большой элемент, то обновляем самый большой элемент\n",
    "    \n",
    "    if left_child < heap_size and nums[left_child] > nums[largest]:\n",
    "        largest = left_child\n",
    "        \n",
    "    # Делайте то же самое для right_child\n",
    "    if right_child < heap_size and nums[right_child] > nums[largest]:\n",
    "        largest = right_child\n",
    "        \n",
    "    # Если самый большой элемент больше не является корневым элементом, меняем их местами\n",
    "    if largest != root_index:\n",
    "        nums[root_index], nums[largest] = nums[largest], nums[root_index]\n",
    "        # Heapify the new root element to ensure it's the largest\n",
    "        heapify(nums, heap_size, largest)\n",
    "\n",
    "        \n",
    "        \n",
    "        \n",
    "#  Функция пирамидально сортировки:       \n",
    "def heap_sort(nums): \n",
    "\n",
    "    # Засечем время\n",
    "    start_time    = time.time()\n",
    "    \n",
    "    \n",
    "    n = len(nums)\n",
    "    # Создаем Max Heap из списка\n",
    "    # Второй аргумент означает, что мы останавливаемся на элементе перед -1, то есть на первом элементе списка.\n",
    "    # Третий аргумент означает, что мы повторяем в обратном направлении, уменьшая количество i на 1\n",
    "    for i in range(n, -1, -1):\n",
    "        heapify(nums, n, i)\n",
    "        \n",
    "    # Перемещаем корень max hea в конец\n",
    "    for i in range(n - 1, 0, -1):\n",
    "        nums[i], nums[0] = nums[0], nums[i]\n",
    "        heapify(nums, i, 0)\n",
    "\n",
    "     # Зафиксируем время\n",
    "    time_of_work_ = time.time() - start_time            \n",
    "    \n",
    "    return  time_of_work_ , nums     \n",
    "\n",
    "def timer_heap_sort(enter_list):\n",
    "    \n",
    "      # Засечем время\n",
    "      start_time    = time.time()\n",
    "\n",
    "      # Проверяем, что все работает\n",
    "      random_list_of_nums = enter_list\n",
    "\n",
    "      # Вызовем функцию сортировки      \n",
    "      heap_sort(random_list_of_nums)\n",
    "        \n",
    "      # Зафиксируем время        \n",
    "      time_of_work_ = time.time() - start_time     \n",
    "\n",
    "      return time_of_work_\n",
    "        \n",
    "\n",
    "random_list_of_nums = [120, 45, 68, 250, 176]       \n",
    "print(timer_heap_sort(random_list_of_nums))\n"
   ]
  },
  {
   "cell_type": "markdown",
   "metadata": {},
   "source": [
    "В среднем сложность сортировки кучи составляет O(nlog (n)), что уже значительно быстрее, чем в предыдущих алгоритмах."
   ]
  },
  {
   "cell_type": "markdown",
   "metadata": {},
   "source": [
    "Сортировка слиянием (Merge Sort)\n",
    "Этот алгоритм «разделяй и властвуй» разбивает список пополам и продолжает разбивать список на пары, пока в нем не будут только одиночные элементы.\n",
    "\n",
    "Соседние элементы становятся отсортированными парами, затем отсортированные пары объединяются и сортируются с другими парами. Этот процесс продолжается до тех пор, пока мы не получим отсортированный список со всеми элементами несортированного списка.\n",
    "\n",
    "Мы рекурсивно разделяем список пополам, пока не получим списки с одиночным размером. Затем мы объединяем каждую половину, которая была разделена, и при этом сортируя их.\n",
    "\n",
    "Сортировка осуществляется путем сравнения наименьших элементов каждой половины. Первый элемент каждого списка сравнивается с первым. Если первая половина начинается с меньшего значения, то мы добавляем ее в отсортированный список. Затем мы сравниваем второе наименьшее значение первой половины с первым наименьшим значением второй половины.\n",
    "\n",
    "Каждый раз, когда мы выбираем меньшее значение в начале половины, мы перемещаем индекс, элемент которого нужно сравнить на единицу."
   ]
  },
  {
   "cell_type": "code",
   "execution_count": 6,
   "metadata": {},
   "outputs": [
    {
     "name": "stdout",
     "output_type": "stream",
     "text": [
      "0.0005002021789550781\n"
     ]
    }
   ],
   "source": [
    "# Вспомогательная Функция для сортировки слиянием\n",
    "def merge(left_list, right_list):  \n",
    "\n",
    "\n",
    "    \n",
    "    sorted_list = []\n",
    "    left_list_index = right_list_index = 0\n",
    "    \n",
    "    # Мы будет часто используем длины списков, поэтому удобно сразу создавать переменные для этого\n",
    "    left_list_length, right_list_length = len(left_list), len(right_list)\n",
    "    \n",
    "    for _ in range(left_list_length + right_list_length):\n",
    "        if left_list_index < left_list_length and right_list_index < right_list_length:\n",
    "            \n",
    "            # Мы проверяем, какое значение с начала каждого списка меньше\n",
    "            # Если элемент в начале левого списка меньше, добавляем его в отсортированный список\n",
    "            if left_list[left_list_index] <= right_list[right_list_index]:\n",
    "                sorted_list.append(left_list[left_list_index])\n",
    "                left_list_index += 1\n",
    "                \n",
    "            # Если элемент в начале правого списка меньше, добавляем его в отсортированный список\n",
    "            else:\n",
    "                sorted_list.append(right_list[right_list_index])\n",
    "                right_list_index += 1\n",
    "                \n",
    "        # Если мы достигли конца левого списка, добавляем элементы из правого списка\n",
    "        elif left_list_index == left_list_length:\n",
    "            \n",
    "            sorted_list.append(right_list[right_list_index])\n",
    "            right_list_index += 1\n",
    "            \n",
    "        # Если мы достигли конца правого списка, добавляем элементы из левого списка\n",
    "        elif right_list_index == right_list_length:\n",
    "            \n",
    "            sorted_list.append(left_list[left_list_index])\n",
    "            left_list_index += 1\n",
    "\n",
    "    return (sorted_list)\n",
    "\n",
    "\n",
    "# Функция Сортировка слиянием\n",
    "def merge_sort(nums): \n",
    "    \n",
    "\n",
    "    # Если список представляет собой один элемент, возвращаем его\n",
    "    if len(nums) <= 1:\n",
    "        \n",
    "        return nums\n",
    "    \n",
    "    # Используем деление с округленим по наименьшему целому для получения средней точки, индексы должны быть целыми числами \n",
    "    mid = len(nums) // 2\n",
    "    \n",
    "    # Сортируем и объединяем каждую половину\n",
    "    left_list = merge_sort(nums[:mid])\n",
    "    right_list = merge_sort(nums[mid:])\n",
    "\n",
    "    \n",
    "    # Объединить отсортированные списки в новый\n",
    "    return merge(left_list, right_list)\n",
    "\n",
    "def timer_merge_sort(enter_list):\n",
    "\n",
    "      # Засечем время\n",
    "      start_time    = time.time()\n",
    "\n",
    "      # Проверяем, что все работает\n",
    "      random_list_of_nums = enter_list\n",
    "    \n",
    "      # Вызовем функцию сортировки\n",
    "      merge_sort(random_list_of_nums)\n",
    "    \n",
    "      # Зафиксируем время\n",
    "      time_of_work_ = time.time() - start_time     \n",
    "\n",
    "      return time_of_work_\n",
    "        \n",
    "\n",
    "random_list_of_nums = [120, 45, 68, 250, 176]       \n",
    "print(timer_merge_sort(random_list_of_nums))\n",
    "\n"
   ]
  },
  {
   "cell_type": "markdown",
   "metadata": {},
   "source": [
    "Обратите внимание, что функция merge_sort(), в отличие от предыдущих алгоритмов сортировки, возвращает новый отсортированный список, а не сортирует существующий список.\n",
    "\n",
    "Поэтому для сортировки слиянием требуется пространство в памяти для создания нового списка того же размера, что и входной список.\n",
    "\n",
    "В среднем сложность сортировки слиянием составляет O(nlog (n))."
   ]
  },
  {
   "cell_type": "markdown",
   "metadata": {},
   "source": [
    "Быстрая сортировка (Quick Sort)\n",
    "Это то же алгоритм «разделяй и властвуй» и его наиболее часто используют их описанных в этой статье. При правильной настройке он чрезвычайно эффективен и не требует дополнительного пространства памяти как сортировка слиянием. Мы разделяем список вокруг элемента точка опоры, сортируя значения вокруг этой точки.\n",
    "\n",
    "Быстрая сортировка начинается с разбиения списка — выбора одного значения списка, которое будет в его отсортированном месте. Это значение называется опорным. Все элементы, меньшие, чем этот элемент, перемещаются влево. Все более крупные элементы перемещены вправо.\n",
    "\n",
    "Зная, что опорный элемент находится на своем правильном месте, мы рекурсивно сортируем значения вокруг этого элемента, пока не будет отсортирован весь список."
   ]
  },
  {
   "cell_type": "code",
   "execution_count": 7,
   "metadata": {},
   "outputs": [
    {
     "name": "stdout",
     "output_type": "stream",
     "text": [
      "0.0\n"
     ]
    }
   ],
   "source": [
    "# Есть разные способы реализовать быструю сортировки\n",
    "# мы выбрали схема Tony Hoare\n",
    "def partition(nums, low, high): \n",
    "    \n",
    "    # Мы выбираем средний элемент, в качестве опорного. Некоторые реализации выбирают\n",
    "    # первый элемент или последний элемент или вообще случайный элемент.\n",
    "    \n",
    "    pivot = nums[(low + high) // 2]\n",
    "    i = low - 1\n",
    "    j = high + 1\n",
    "    \n",
    "    while True:\n",
    "        \n",
    "        i += 1\n",
    "        while nums[i] < pivot:\n",
    "            \n",
    "            i += 1\n",
    "        j -= 1\n",
    "        while nums[j] > pivot:\n",
    "            \n",
    "            j -= 1\n",
    "        if i >= j:\n",
    "            \n",
    "            return j\n",
    "        \n",
    "        # Если элемент в i (слева от оси) больше, чем\n",
    "        # элемент в J (справа от оси), то поменять их местами\n",
    "        \n",
    "        nums[i], nums[j] = nums[j], nums[i]\n",
    "        \n",
    "def quick_sort(nums): \n",
    "    \n",
    "    # Создаем вспомогательную рекурсивную функцию\n",
    "    def _quick_sort(items, low, high):\n",
    "        \n",
    "        if low < high:\n",
    "            \n",
    "            # Это индекс после опорного элемента, по которому наши списки разделены\n",
    "            \n",
    "            split_index = partition(items, low, high)\n",
    "            _quick_sort(items, low, split_index)\n",
    "            _quick_sort(items, split_index + 1, high)\n",
    "            \n",
    "    _quick_sort(nums, 0, len(nums) - 1)\n",
    "\n",
    "    \n",
    "def timer_quick_sort(enter_list):    \n",
    "\n",
    "    # Засечем время\n",
    "    start_time    = time.time()\n",
    "    \n",
    "    \n",
    "    # Проверяем, что все работает\n",
    "\n",
    "\n",
    "    random_list_of_nums = enter_list\n",
    "    quick_sort(random_list_of_nums)\n",
    "\n",
    "    # Зафиксируем время\n",
    "    time_of_work_ = time.time() - start_time     \n",
    "\n",
    "    return time_of_work_\n",
    "\n",
    "\n",
    "random_list_of_nums = [22, 5, 1, 18, 99]  \n",
    "print(timer_quick_sort(random_list_of_nums))\n"
   ]
  },
  {
   "cell_type": "code",
   "execution_count": 8,
   "metadata": {},
   "outputs": [
    {
     "name": "stdout",
     "output_type": "stream",
     "text": [
      "0.0\n"
     ]
    }
   ],
   "source": [
    "# Функция сортировки методом sort ().\n",
    "def np_sort(enter_list):\n",
    "\n",
    "    # Засечем время\n",
    "    start_time    = time.time()\n",
    "\n",
    "    # Получение данные для сортировки\n",
    "    random_list_of_nums = enter_list\n",
    "    \n",
    "    # Сортировка\n",
    "    arr_sort = np.sort(random_list_of_nums, axis = None)    \n",
    "\n",
    "    \n",
    "    # Зафиксируем время\n",
    "    time_of_work_ = time.time() - start_time     \n",
    "      \n",
    "    return time_of_work_    \n",
    "    \n",
    "random_list_of_nums = [37, 15, 80, 21, 76]  \n",
    "print(np_sort(random_list_of_nums))    \n",
    "    "
   ]
  },
  {
   "cell_type": "code",
   "execution_count": 9,
   "metadata": {},
   "outputs": [
    {
     "name": "stdout",
     "output_type": "stream",
     "text": [
      "0.0\n"
     ]
    }
   ],
   "source": [
    "# Функция сортировки методом agrsort ().\n",
    "def np_agrsort(enter_list):\n",
    "\n",
    "    # Засечем время\n",
    "    start_time    = time.time()\n",
    "\n",
    "    # Получение данные для сортировки\n",
    "    random_list_of_nums = enter_list\n",
    "    \n",
    "    # Сортировка\n",
    "    arr_sort = np.argsort(random_list_of_nums, axis = None)    \n",
    "    \n",
    "    # Зафиксируем время\n",
    "    time_of_work_ = time.time() - start_time     \n",
    "      \n",
    "    return time_of_work_    \n",
    "    \n",
    "random_list_of_nums = [44, 23, 19, 74, 11]  \n",
    "print(np_agrsort(random_list_of_nums))    \n"
   ]
  },
  {
   "cell_type": "code",
   "execution_count": 10,
   "metadata": {},
   "outputs": [
    {
     "name": "stdout",
     "output_type": "stream",
     "text": [
      "0.0\n"
     ]
    }
   ],
   "source": [
    "# Функция сортировки методом np_lexsort ().\n",
    "def np_lexsort(enter_list):\n",
    "\n",
    "    # Засечем время\n",
    "    start_time    = time.time()\n",
    "\n",
    "    # Получение данные для сортировки\n",
    "    random_list_of_nums = enter_list\n",
    "    \n",
    "    # Сортировка\n",
    "    arr_sort = np.lexsort(random_list_of_nums)    \n",
    "    \n",
    "    # Зафиксируем время\n",
    "    time_of_work_ = time.time() - start_time     \n",
    "      \n",
    "    return time_of_work_    \n",
    "    \n",
    "random_list_of_nums = [57, 41, 72, 83, 17]  \n",
    "print(np_lexsort((random_list_of_nums)))    \n"
   ]
  },
  {
   "cell_type": "code",
   "execution_count": 11,
   "metadata": {},
   "outputs": [
    {
     "name": "stdout",
     "output_type": "stream",
     "text": [
      "0.0\n"
     ]
    }
   ],
   "source": [
    "# Cортировка встроенной функцией Питон.\n",
    "def sorted_Python_built_in(enter_list):\n",
    "    \n",
    "    \n",
    "    # Засечем время\n",
    "    start_time    = time.time()\n",
    "\n",
    "    # Получение данные для сортировки\n",
    "    random_list_of_nums = enter_list\n",
    "    \n",
    "    # Сортировка\n",
    "    arr_sort = sorted(random_list_of_nums)\n",
    "    \n",
    "    # Зафиксируем время\n",
    "    time_of_work_ = time.time() - start_time     \n",
    "      \n",
    "    return time_of_work_        \n",
    "    \n",
    "    \n",
    "random_list_of_nums = [44, 22, 11, 15, 7]  \n",
    "\n",
    "print(sorted_Python_built_in((random_list_of_nums)))        \n",
    "    "
   ]
  },
  {
   "cell_type": "code",
   "execution_count": 12,
   "metadata": {},
   "outputs": [
    {
     "name": "stdout",
     "output_type": "stream",
     "text": [
      "0.0014998912811279297\n"
     ]
    }
   ],
   "source": [
    "# Функция сортировки с помощью Pandas:\n",
    "def Pandas_sort(enter_list):\n",
    "\n",
    "    # Засечем время\n",
    "    start_time = time.time()\n",
    "    \n",
    "    # Создание Дата Серии для последующей сортировки:\n",
    "    data = pd.DataFrame()\n",
    "    \n",
    "    # Заполнение серии подготовленным списком: \n",
    "\n",
    "    data['sort'] = enter_list\n",
    "\n",
    "    # Сортировка\n",
    "    #arr_sort = data.sort_values()  \n",
    "    sort_result = data.sort_values(by ='sort', ascending = 0) \n",
    " \n",
    "    # Зафиксируем время\n",
    "    time_of_work_ = time.time() - start_time     \n",
    "      \n",
    "    return time_of_work_        \n",
    "    \n",
    "\n",
    "random_list_of_nums = [61, 12, 37, 76, 93]  \n",
    "print(Pandas_sort((random_list_of_nums)))    \n"
   ]
  },
  {
   "cell_type": "code",
   "execution_count": 13,
   "metadata": {},
   "outputs": [
    {
     "name": "stdout",
     "output_type": "stream",
     "text": [
      "                      name   values\n",
      "0          bubble_sort_arr  40.8011\n",
      "1       selection_sort_arr  13.5626\n",
      "3      timer_heap_sort_arr   0.1599\n",
      "4     timer_merge_sort_arr   0.0366\n",
      "5     timer_quick_sort_arr   0.0350\n",
      "2       insertion_sort_arr   0.0045\n",
      "8           np_lexsort_arr   0.0032\n",
      "9          Pandas_sort_arr   0.0023\n",
      "10         Pandas_sort_arr   0.0005\n",
      "7           np_agrsort_arr   0.0002\n",
      "6              np_sort_arr   0.0001\n",
      "11  sorted_Python_built_in   0.0000\n"
     ]
    }
   ],
   "source": [
    "# Функция агрегирования рандомного массива\n",
    "def random_agregate():\n",
    "    \n",
    "    #  непосредсвенное агрегирование\n",
    "    #random_arr = [61, 12, 37, 76, 93]  \n",
    "    random_arr = np.random.randint(1, 10000, size=(10000))\n",
    "    \n",
    "    return random_arr\n",
    "\n",
    "def running_algoritms():\n",
    "\n",
    "    # Всего прогонов\n",
    "    ll_run = 5\n",
    "    #Values_algoritms = []\n",
    "    \n",
    "    Values_algoritms = np.zeros(shape=12)\n",
    "    \n",
    "    # Формирование Numpy массивов для вызова функции\n",
    "    bubble_sort_arr = np.zeros(shape=ll_run)\n",
    "    selection_sort_arr = np.zeros(shape=ll_run)\n",
    "    insertion_sort_arr = np.zeros(shape=ll_run)\n",
    "    timer_heap_sort_arr = np.zeros(shape=ll_run)\n",
    "    timer_merge_sort_arr = np.zeros(shape=ll_run)\n",
    "    timer_quick_sort_arr = np.zeros(shape=ll_run)\n",
    "    np_sort_arr = np.zeros(shape=ll_run)\n",
    "    np_agrsort_arr = np.zeros(shape=ll_run)\n",
    "    np_lexsort_arr = np.zeros(shape=ll_run)\n",
    "    Pandas_sort_arr = np.zeros(shape=ll_run)\n",
    "    sorted_Python_built_in_arr = np.zeros(shape=ll_run)\n",
    "   \n",
    "    # Цикл для прогона \n",
    "    for i in range(ll_run):\n",
    "        \n",
    "         # Формирование массива\n",
    "         random_list_of_nums = random_agregate()\n",
    "\n",
    "    \n",
    "         # Пополнение Numpy_массивов каждого алгоритма сортировки\n",
    "         bubble_sort_arr[i] = bubble_sort(random_list_of_nums)\n",
    "         selection_sort_arr[i] = selection_sort(random_list_of_nums)\n",
    "         insertion_sort_arr[i] = insertion_sort(random_list_of_nums)\n",
    "         timer_heap_sort_arr[i] = timer_heap_sort(random_list_of_nums)\n",
    "         timer_merge_sort_arr[i] = timer_merge_sort(random_list_of_nums)\n",
    "         timer_quick_sort_arr[i] = timer_quick_sort(random_list_of_nums)\n",
    "         np_sort_arr[i] = np_sort(random_list_of_nums)\n",
    "         np_agrsort_arr[i] = np_agrsort(random_list_of_nums)\n",
    "         np_lexsort_arr[i] = np_lexsort(random_list_of_nums)\n",
    "         Pandas_sort_arr[i] = Pandas_sort(random_list_of_nums)\n",
    "         sorted_Python_built_in_arr[i] = sorted_Python_built_in(random_list_of_nums)\n",
    "    \n",
    "    # поиск среднего значения в каждом алгоритме\n",
    "   \n",
    "    Values_algoritms[0] = np.mean(bubble_sort_arr)\n",
    "    Values_algoritms[1] = np.mean(selection_sort_arr)\n",
    "    Values_algoritms[2] = np.mean(insertion_sort_arr)\n",
    "    Values_algoritms[3] = np.mean(timer_heap_sort_arr)\n",
    "    Values_algoritms[4] = np.mean(timer_merge_sort_arr)\n",
    "    Values_algoritms[5] = np.mean(timer_quick_sort_arr)\n",
    "    Values_algoritms[6] = np.mean(np_sort_arr)\n",
    "    Values_algoritms[7] = np.mean(np_agrsort_arr)\n",
    "    Values_algoritms[8] = np.mean(np_lexsort_arr)\n",
    "    Values_algoritms[9] = np.mean(Pandas_sort_arr)   \n",
    "    Values_algoritms[10] = np.mean(sorted_Python_built_in_arr)       \n",
    "    \n",
    "    return Values_algoritms\n",
    "\n",
    "\n",
    "    # /////////////////////\n",
    "    # Составление рейтинга\n",
    "    # ////////////////////\n",
    "    \n",
    "# Список всех алгоритмов\n",
    "name_all_algoritms = [\"bubble_sort_arr\",\n",
    "                          \"selection_sort_arr\",\n",
    "                          \"insertion_sort_arr\",\n",
    "                          \"timer_heap_sort_arr\",\n",
    "                          \"timer_merge_sort_arr\",\n",
    "                          \"timer_quick_sort_arr\",\n",
    "                          \"np_sort_arr\",\n",
    "                          \"np_agrsort_arr\",\n",
    "                          \"np_lexsort_arr\",\n",
    "                          \"Pandas_sort_arr\",\n",
    "                          \"Pandas_sort_arr\",\n",
    "                          \"sorted_Python_built_in\"\n",
    "                      \n",
    "                         ]\n",
    "    \n",
    "# Вызов функции.\n",
    "Values_algoritms = running_algoritms()        \n",
    "  \n",
    "# Формирование Pandas Дата фрейма\n",
    "sort_data = pd.DataFrame()\n",
    "    \n",
    "# Загон в Pandas  списка названий алгоритмов\n",
    "sort_data['name'] =  name_all_algoritms\n",
    "\n",
    "# Загон в Pandas значений    \n",
    "sort_data['values'] =  Values_algoritms  \n",
    "   \n",
    "# Сортировка \n",
    "sort_result = sort_data.sort_values(by ='values', ascending = 0)\n",
    "   \n",
    "# Вывод на печать\n",
    "print(sort_result)\n"
   ]
  },
  {
   "cell_type": "markdown",
   "metadata": {},
   "source": [
    "В среднем сложность быстрой сортировки составляет O(nlog (n)).\n",
    "\n",
    "Примечание. Алгоритм быстрой сортировки будет работать медленно, если опорный элемент будет наименьшим или наибольшим элементом списка. Быстрая сортировка обычно работает быстрее с более сбалансированными значениями. В отличие от сортировки кучи и сортировки слиянием, обе из которых имеют худшие времена O(nlog (n)), быстрая сортировка имеет худшее время O(n^2).\n",
    "Выбор какую функцию использовать решает уже сам пользователь. Где нужно провести быструю сортировку следует сделать упор на количество кода, где данных невообразимо большое количество тогда анализировать какой алгоритм к данной конкретной задаче будет предпочтительнее."
   ]
  }
 ],
 "metadata": {
  "kernelspec": {
   "display_name": "Python 3",
   "language": "python",
   "name": "python3"
  },
  "language_info": {
   "codemirror_mode": {
    "name": "ipython",
    "version": 3
   },
   "file_extension": ".py",
   "mimetype": "text/x-python",
   "name": "python",
   "nbconvert_exporter": "python",
   "pygments_lexer": "ipython3",
   "version": "3.7.9"
  }
 },
 "nbformat": 4,
 "nbformat_minor": 4
}
