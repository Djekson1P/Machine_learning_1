{
 "cells": [
  {
   "cell_type": "markdown",
   "metadata": {},
   "source": [
    "Статья о некоторых особенностях Pandas.\n",
    "\n",
    "В этой статье будут приведены некоторые лишь некоторые возможности Pandas. За более подробным руководством советую обратится к официальному руководству.\n",
    "\n",
    "Статья будет поделена на несколько примеров, которые содержат краткий код с комментяриями к его выполнению. И пояснения к нему. Итак начнем.\n",
    "\n",
    "Для начала подругим непосредственно Pandas."
   ]
  },
  {
   "cell_type": "code",
   "execution_count": 1,
   "metadata": {},
   "outputs": [],
   "source": [
    "import pandas as pd\n"
   ]
  },
  {
   "cell_type": "markdown",
   "metadata": {},
   "source": [
    "1. Создание DataFrame()"
   ]
  },
  {
   "cell_type": "code",
   "execution_count": 2,
   "metadata": {},
   "outputs": [],
   "source": [
    "# Создание пустого Дата Фрейма Пандас выполняется следующим кодом\n",
    "arr = pd.DataFrame() "
   ]
  },
  {
   "cell_type": "markdown",
   "metadata": {},
   "source": [
    "2. Заполенение ручным способом"
   ]
  },
  {
   "cell_type": "code",
   "execution_count": 3,
   "metadata": {},
   "outputs": [],
   "source": [
    "#Заполенение ручным способом\n",
    "\n",
    "arr = pd.DataFrame([[1,'Сергей', 'Python'],\n",
    "                  [2,'Андрей', 'C#'],\n",
    "                  [3,'Дмитрий', 'Node.js']], \n",
    "columns=['номер','имя', 'язык программирования'])"
   ]
  },
  {
   "cell_type": "code",
   "execution_count": 4,
   "metadata": {
    "scrolled": true
   },
   "outputs": [
    {
     "name": "stdout",
     "output_type": "stream",
     "text": [
      "   номер      имя язык программирования\n",
      "0      1   Сергей                Python\n",
      "1      2   Андрей                    C#\n",
      "2      3  Дмитрий               Node.js\n"
     ]
    }
   ],
   "source": [
    "print(arr)"
   ]
  },
  {
   "cell_type": "markdown",
   "metadata": {},
   "source": [
    "Pandas наиболее удобно применять для загрузки готовых данных из файла(чаще всего используется CSV) Для примера загрузим файл данных MNIST.\n",
    "\n",
    "Загрузка CSV файла"
   ]
  },
  {
   "cell_type": "code",
   "execution_count": 5,
   "metadata": {},
   "outputs": [],
   "source": [
    "data = pd.read_csv(r'C:\\Тест\\Test_Pandas.csv', sep = ';')"
   ]
  },
  {
   "cell_type": "code",
   "execution_count": 6,
   "metadata": {
    "scrolled": true
   },
   "outputs": [
    {
     "name": "stdout",
     "output_type": "stream",
     "text": [
      "   Number    Name Programm Language\n",
      "0       1    Andy            Python\n",
      "1       2    Serg                C#\n",
      "2       3  Dmitry           Node.js\n",
      "4       5    Alex                C#\n",
      "5       6    Wlad            Python\n",
      "6       7    Yuri           Node.js\n",
      "7       8    Alex            Python\n",
      "8       9    Oleg            Python\n",
      "9      10     Den            Python\n"
     ]
    }
   ],
   "source": [
    "# Удаление всех строк в которых встречается nan\n",
    "arr = data.dropna(axis=0)\n",
    "print(arr)"
   ]
  },
  {
   "cell_type": "code",
   "execution_count": 7,
   "metadata": {
    "scrolled": true
   },
   "outputs": [
    {
     "name": "stdout",
     "output_type": "stream",
     "text": [
      "   Number    Name Programm Language\n",
      "0       1    Andy            Python\n",
      "1       2    Serg                C#\n",
      "2       3  Dmitry           Node.js\n",
      "4       5    Alex                C#\n",
      "5       6    Wlad            Python\n",
      "6       7    Yuri           Node.js\n",
      "7       8    Alex            Python\n",
      "8       9    Oleg            Python\n",
      "9      10     Den            Python\n"
     ]
    }
   ],
   "source": [
    "# Удаление всех строк в которых встречается nan\n",
    "arr = data.dropna(axis=0)\n",
    "print(arr)"
   ]
  },
  {
   "cell_type": "code",
   "execution_count": 8,
   "metadata": {
    "scrolled": true
   },
   "outputs": [
    {
     "name": "stdout",
     "output_type": "stream",
     "text": [
      "   Number    Name Programm Language\n",
      "0       1    Andy            Python\n",
      "1       2    Serg                C#\n",
      "2       3  Dmitry           Node.js\n",
      "3       4     NaN            Python\n",
      "4       5    Alex                C#\n",
      "5       6    Wlad            Python\n",
      "6       7    Yuri           Node.js\n",
      "7       8    Alex            Python\n",
      "8       9    Oleg            Python\n",
      "9      10     Den            Python\n"
     ]
    }
   ],
   "source": [
    "# Замена пропусков средним значением\n",
    "arr = data.fillna(arr.mean())\n",
    "print(arr)"
   ]
  },
  {
   "cell_type": "code",
   "execution_count": 9,
   "metadata": {
    "scrolled": true
   },
   "outputs": [
    {
     "name": "stdout",
     "output_type": "stream",
     "text": [
      "['Andy' 'Serg' 'Dmitry' nan 'Alex' 'Wlad' 'Yuri' 'Oleg' 'Den']\n"
     ]
    }
   ],
   "source": [
    "arr = data['Name'].unique()\n",
    "print(arr)"
   ]
  },
  {
   "cell_type": "code",
   "execution_count": 10,
   "metadata": {},
   "outputs": [
    {
     "data": {
      "text/html": [
       "<div>\n",
       "<style scoped>\n",
       "    .dataframe tbody tr th:only-of-type {\n",
       "        vertical-align: middle;\n",
       "    }\n",
       "\n",
       "    .dataframe tbody tr th {\n",
       "        vertical-align: top;\n",
       "    }\n",
       "\n",
       "    .dataframe thead th {\n",
       "        text-align: right;\n",
       "    }\n",
       "</style>\n",
       "<table border=\"1\" class=\"dataframe\">\n",
       "  <thead>\n",
       "    <tr style=\"text-align: right;\">\n",
       "      <th></th>\n",
       "      <th>Number</th>\n",
       "      <th>Name</th>\n",
       "      <th>Programm Language</th>\n",
       "    </tr>\n",
       "  </thead>\n",
       "  <tbody>\n",
       "    <tr>\n",
       "      <th>0</th>\n",
       "      <td>1</td>\n",
       "      <td>Andy</td>\n",
       "      <td>Python</td>\n",
       "    </tr>\n",
       "    <tr>\n",
       "      <th>1</th>\n",
       "      <td>2</td>\n",
       "      <td>Serg</td>\n",
       "      <td>C#</td>\n",
       "    </tr>\n",
       "  </tbody>\n",
       "</table>\n",
       "</div>"
      ],
      "text/plain": [
       "   Number  Name Programm Language\n",
       "0       1  Andy            Python\n",
       "1       2  Serg                C#"
      ]
     },
     "execution_count": 10,
     "metadata": {},
     "output_type": "execute_result"
    }
   ],
   "source": [
    "# Первые две строки датасета( по умолчанию их 5)\n",
    "data.head(2)\n"
   ]
  },
  {
   "cell_type": "code",
   "execution_count": 11,
   "metadata": {
    "scrolled": true
   },
   "outputs": [
    {
     "data": {
      "text/html": [
       "<div>\n",
       "<style scoped>\n",
       "    .dataframe tbody tr th:only-of-type {\n",
       "        vertical-align: middle;\n",
       "    }\n",
       "\n",
       "    .dataframe tbody tr th {\n",
       "        vertical-align: top;\n",
       "    }\n",
       "\n",
       "    .dataframe thead th {\n",
       "        text-align: right;\n",
       "    }\n",
       "</style>\n",
       "<table border=\"1\" class=\"dataframe\">\n",
       "  <thead>\n",
       "    <tr style=\"text-align: right;\">\n",
       "      <th></th>\n",
       "      <th>Number</th>\n",
       "      <th>Name</th>\n",
       "      <th>Programm Language</th>\n",
       "    </tr>\n",
       "  </thead>\n",
       "  <tbody>\n",
       "    <tr>\n",
       "      <th>8</th>\n",
       "      <td>9</td>\n",
       "      <td>Oleg</td>\n",
       "      <td>Python</td>\n",
       "    </tr>\n",
       "    <tr>\n",
       "      <th>9</th>\n",
       "      <td>10</td>\n",
       "      <td>Den</td>\n",
       "      <td>Python</td>\n",
       "    </tr>\n",
       "  </tbody>\n",
       "</table>\n",
       "</div>"
      ],
      "text/plain": [
       "   Number  Name Programm Language\n",
       "8       9  Oleg            Python\n",
       "9      10   Den            Python"
      ]
     },
     "execution_count": 11,
     "metadata": {},
     "output_type": "execute_result"
    }
   ],
   "source": [
    "# Последние две строки датасета( по умолчанию их 5)\n",
    "data.tail(2)"
   ]
  },
  {
   "cell_type": "code",
   "execution_count": 12,
   "metadata": {},
   "outputs": [
    {
     "name": "stdout",
     "output_type": "stream",
     "text": [
      "10\n"
     ]
    }
   ],
   "source": [
    "# Подсчет количества строк\n",
    "arr = len(data)\n",
    "print(arr)"
   ]
  },
  {
   "cell_type": "code",
   "execution_count": 13,
   "metadata": {},
   "outputs": [
    {
     "name": "stdout",
     "output_type": "stream",
     "text": [
      "10\n"
     ]
    }
   ],
   "source": [
    "# Еще один способ подсчета количества строк\n",
    "arr = data.shape[0]\n",
    "print(arr)"
   ]
  },
  {
   "cell_type": "code",
   "execution_count": 14,
   "metadata": {},
   "outputs": [
    {
     "name": "stdout",
     "output_type": "stream",
     "text": [
      "3\n"
     ]
    }
   ],
   "source": [
    "# Количество столбов\n",
    "arr = data.shape[1]\n",
    "print(arr)"
   ]
  },
  {
   "cell_type": "code",
   "execution_count": 15,
   "metadata": {},
   "outputs": [
    {
     "name": "stdout",
     "output_type": "stream",
     "text": [
      "<class 'pandas.core.frame.DataFrame'>\n",
      "RangeIndex: 10 entries, 0 to 9\n",
      "Data columns (total 3 columns):\n",
      " #   Column             Non-Null Count  Dtype \n",
      "---  ------             --------------  ----- \n",
      " 0   Number             10 non-null     int64 \n",
      " 1   Name               9 non-null      object\n",
      " 2   Programm Language  10 non-null     object\n",
      "dtypes: int64(1), object(2)\n",
      "memory usage: 368.0+ bytes\n",
      "None\n"
     ]
    }
   ],
   "source": [
    "# Беглый просмотр исследумего датасета\n",
    "print(data.info())\n"
   ]
  },
  {
   "cell_type": "code",
   "execution_count": 16,
   "metadata": {},
   "outputs": [
    {
     "name": "stdout",
     "output_type": "stream",
     "text": [
      "         Number\n",
      "count  10.00000\n",
      "mean    5.50000\n",
      "std     3.02765\n",
      "min     1.00000\n",
      "25%     3.25000\n",
      "50%     5.50000\n",
      "75%     7.75000\n",
      "max    10.00000\n"
     ]
    }
   ],
   "source": [
    "# Подсчет общих статистических метрик в столбцах \n",
    "# с числовыми значениями. На данном датасете прелести этой функции не видны.\n",
    "print(data.describe())"
   ]
  },
  {
   "cell_type": "code",
   "execution_count": 17,
   "metadata": {},
   "outputs": [
    {
     "data": {
      "text/plain": [
       "Alex      2\n",
       "Dmitry    1\n",
       "Oleg      1\n",
       "Andy      1\n",
       "Serg      1\n",
       "Wlad      1\n",
       "Yuri      1\n",
       "Den       1\n",
       "Name: Name, dtype: int64"
      ]
     },
     "execution_count": 17,
     "metadata": {},
     "output_type": "execute_result"
    }
   ],
   "source": [
    "# Подсчет вхождения каждого отдельного элемента в отдельно взятом столбце.\n",
    "# В данном случае в столбце 'Name'\n",
    "data.Name.value_counts()"
   ]
  },
  {
   "cell_type": "code",
   "execution_count": 18,
   "metadata": {},
   "outputs": [
    {
     "name": "stdout",
     "output_type": "stream",
     "text": [
      "['Andy', 'Serg', 'Dmitry', nan, 'Alex', 'Wlad', 'Yuri', 'Alex', 'Oleg', 'Den']\n"
     ]
    }
   ],
   "source": [
    "# Перевод значений из столбца в список\n",
    "arr = data['Name'].tolist()\n",
    "print(arr)\n"
   ]
  },
  {
   "cell_type": "code",
   "execution_count": 19,
   "metadata": {},
   "outputs": [
    {
     "name": "stdout",
     "output_type": "stream",
     "text": [
      "['Number', 'Name', 'Programm Language']\n"
     ]
    }
   ],
   "source": [
    "# Представление названий столбцов в виде списка\n",
    "arr = data.columns.tolist()\n",
    "print(arr)"
   ]
  },
  {
   "cell_type": "code",
   "execution_count": 20,
   "metadata": {
    "scrolled": true
   },
   "outputs": [
    {
     "name": "stdout",
     "output_type": "stream",
     "text": [
      "   Number    Name Programm Language  New_column\n",
      "0       1    Andy            Python           1\n",
      "1       2    Serg                C#           1\n",
      "2       3  Dmitry           Node.js           1\n",
      "3       4     NaN            Python           1\n",
      "4       5    Alex                C#           1\n",
      "5       6    Wlad            Python           1\n",
      "6       7    Yuri           Node.js           1\n",
      "7       8    Alex            Python           1\n",
      "8       9    Oleg            Python           1\n",
      "9      10     Den            Python           1\n"
     ]
    }
   ],
   "source": [
    "# Добавление нового столбца\n",
    "data['New_column'] = 1\n",
    "print(data)"
   ]
  },
  {
   "cell_type": "code",
   "execution_count": 21,
   "metadata": {},
   "outputs": [],
   "source": [
    "\n",
    "# Разбивка основоного фрейма данных на два, поменьше\n",
    "# Подобная операция применяется в анализе данных, но этом позже.\n",
    "\n",
    "data1 = data[0:4]\n",
    "data2 = data[5:10]"
   ]
  },
  {
   "cell_type": "code",
   "execution_count": 22,
   "metadata": {
    "scrolled": true
   },
   "outputs": [
    {
     "name": "stdout",
     "output_type": "stream",
     "text": [
      "   Number    Name Programm Language  New_column  Sum\n",
      "0       1    Andy            Python           1    2\n",
      "1       2    Serg                C#           1    3\n",
      "2       3  Dmitry           Node.js           1    4\n",
      "3       4     NaN            Python           1    5\n",
      "4       5    Alex                C#           1    6\n",
      "5       6    Wlad            Python           1    7\n",
      "6       7    Yuri           Node.js           1    8\n",
      "7       8    Alex            Python           1    9\n",
      "8       9    Oleg            Python           1   10\n",
      "9      10     Den            Python           1   11\n"
     ]
    }
   ],
   "source": [
    "# Построчная сумма двух отдельных столбцов\n",
    "data['Sum'] = data[['Number','New_column']].sum(axis=1)\n",
    "print(data)"
   ]
  },
  {
   "cell_type": "code",
   "execution_count": 23,
   "metadata": {},
   "outputs": [
    {
     "name": "stdout",
     "output_type": "stream",
     "text": [
      "   Number    Name Programm Language  Sum\n",
      "0       1    Andy            Python    2\n",
      "1       2    Serg                C#    3\n",
      "2       3  Dmitry           Node.js    4\n",
      "3       4     NaN            Python    5\n",
      "4       5    Alex                C#    6\n",
      "5       6    Wlad            Python    7\n",
      "6       7    Yuri           Node.js    8\n",
      "7       8    Alex            Python    9\n",
      "8       9    Oleg            Python   10\n",
      "9      10     Den            Python   11\n"
     ]
    }
   ],
   "source": [
    "# Добавление нового столбца\n",
    "data = data.drop(['New_column'], axis=1)\n",
    "print(data)"
   ]
  },
  {
   "cell_type": "code",
   "execution_count": 24,
   "metadata": {},
   "outputs": [
    {
     "name": "stdout",
     "output_type": "stream",
     "text": [
      "   Number    Name Programm Language  Sum          Concat\n",
      "0       1    Andy            Python    2     Andy Python\n",
      "1       2    Serg                C#    3         Serg C#\n",
      "2       3  Dmitry           Node.js    4  Dmitry Node.js\n",
      "3       4     NaN            Python    5             NaN\n",
      "4       5    Alex                C#    6         Alex C#\n",
      "5       6    Wlad            Python    7     Wlad Python\n",
      "6       7    Yuri           Node.js    8    Yuri Node.js\n",
      "7       8    Alex            Python    9     Alex Python\n",
      "8       9    Oleg            Python   10     Oleg Python\n",
      "9      10     Den            Python   11      Den Python\n"
     ]
    }
   ],
   "source": [
    "\n",
    "# Конкантенция значений двух столбцов  с разделителем в виде пробела\n",
    "data['Concat'] = data['Name'].str.cat(data['Programm Language'], sep =\" \")\n",
    "print(data)\n"
   ]
  },
  {
   "cell_type": "code",
   "execution_count": 25,
   "metadata": {},
   "outputs": [
    {
     "name": "stdout",
     "output_type": "stream",
     "text": [
      "   Number  Name Programm Language  Sum        Concat\n",
      "5       6  Wlad            Python    7   Wlad Python\n",
      "6       7  Yuri           Node.js    8  Yuri Node.js\n",
      "7       8  Alex            Python    9   Alex Python\n",
      "8       9  Oleg            Python   10   Oleg Python\n",
      "9      10   Den            Python   11    Den Python\n"
     ]
    }
   ],
   "source": [
    "# фильтрация по значению\n",
    "arr = data[data['Number'] > 5]\n",
    "print(arr)"
   ]
  },
  {
   "cell_type": "code",
   "execution_count": 26,
   "metadata": {},
   "outputs": [
    {
     "name": "stdout",
     "output_type": "stream",
     "text": [
      "   Number  Name Programm Language  Sum       Concat\n",
      "4       5  Alex                C#    6      Alex C#\n",
      "7       8  Alex            Python    9  Alex Python\n"
     ]
    }
   ],
   "source": [
    "#  Строки по значению\n",
    "arr = data[data['Name'].isin(['Alex'])]\n",
    "print(arr)\n"
   ]
  },
  {
   "cell_type": "code",
   "execution_count": 27,
   "metadata": {},
   "outputs": [
    {
     "name": "stdout",
     "output_type": "stream",
     "text": [
      "Node.js\n"
     ]
    }
   ],
   "source": [
    "#  Обращение ко второй ячейке третьего столба\n",
    "\n",
    "arr = data.iloc[2, 2]\n",
    "print(arr)"
   ]
  }
 ],
 "metadata": {
  "kernelspec": {
   "display_name": "Python 3",
   "language": "python",
   "name": "python3"
  },
  "language_info": {
   "codemirror_mode": {
    "name": "ipython",
    "version": 3
   },
   "file_extension": ".py",
   "mimetype": "text/x-python",
   "name": "python",
   "nbconvert_exporter": "python",
   "pygments_lexer": "ipython3",
   "version": "3.7.9"
  }
 },
 "nbformat": 4,
 "nbformat_minor": 4
}
