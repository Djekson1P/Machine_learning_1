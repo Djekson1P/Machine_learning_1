{
 "cells": [
  {
   "cell_type": "markdown",
   "metadata": {},
   "source": [
    "Numpy. Многое о том как.\n",
    "\n",
    "<!-- Для начала подргузим набор библиотеку Pandas и набор данных titanic -->"
   ]
  },
  {
   "cell_type": "code",
   "execution_count": 1,
   "metadata": {},
   "outputs": [],
   "source": [
    "# import pandas as pd\n",
    "\n",
    "\n",
    "import numpy as np"
   ]
  },
  {
   "cell_type": "code",
   "execution_count": 2,
   "metadata": {},
   "outputs": [
    {
     "name": "stdout",
     "output_type": "stream",
     "text": [
      "[[[[ 0  1  2]\n",
      "   [ 3  4  5]\n",
      "   [ 6  7  8]]\n",
      "\n",
      "  [[ 9 10 11]\n",
      "   [12 13 14]\n",
      "   [15 16 17]]]\n",
      "\n",
      "\n",
      " [[[18 19 20]\n",
      "   [21 22 23]\n",
      "   [24 25 26]]\n",
      "\n",
      "  [[27 28 29]\n",
      "   [30 31 32]\n",
      "   [33 34 35]]]]\n"
     ]
    }
   ],
   "source": [
    "\n",
    "\n",
    "# Создадим массив например четырехмерный\n",
    "arr = np.arange(36).reshape(2, 2, 3, 3)\n",
    "print(arr)"
   ]
  },
  {
   "cell_type": "code",
   "execution_count": 3,
   "metadata": {
    "scrolled": true
   },
   "outputs": [
    {
     "data": {
      "text/plain": [
       "(2, 2, 3, 3)"
      ]
     },
     "execution_count": 3,
     "metadata": {},
     "output_type": "execute_result"
    }
   ],
   "source": [
    "# Проверим его размерность\n",
    "arr.shape"
   ]
  },
  {
   "cell_type": "markdown",
   "metadata": {},
   "source": [
    "Как видим это четыремерный массив, размерность каждого блока составляет 3х3, всего блоков 4.\n",
    "В прицнипе в большинстве случаев можно обойтись болеем простыми двух или трех мерными массивами, но и подобные тоже встречаются\n",
    "например в структурированных базах данныхи или при оцифровке изображений"
   ]
  },
  {
   "cell_type": "code",
   "execution_count": 4,
   "metadata": {},
   "outputs": [
    {
     "name": "stdout",
     "output_type": "stream",
     "text": [
      "[ True False  True ...  True False  True]\n"
     ]
    }
   ],
   "source": [
    "# Подсчитаем переход от \n",
    "# Создадим \n",
    "np.random.seed(250)\n",
    "x = np.random.choice([True, False], size=10000)\n",
    "print(x)\n"
   ]
  },
  {
   "cell_type": "code",
   "execution_count": 5,
   "metadata": {},
   "outputs": [
    {
     "name": "stdout",
     "output_type": "stream",
     "text": [
      "2473\n"
     ]
    }
   ],
   "source": [
    "# Использование классических способов подсчета\n",
    "def count_transitions(x) -> int:\n",
    "        count = 0\n",
    "        for i, j in zip(x[:-1], x[1:]):\n",
    "            if j and not i:\n",
    "                count += 1\n",
    "        return count\n",
    "        \n",
    "print( count_transitions(x))"
   ]
  },
  {
   "cell_type": "code",
   "execution_count": 6,
   "metadata": {
    "scrolled": true
   },
   "outputs": [
    {
     "data": {
      "text/plain": [
       "2473"
      ]
     },
     "execution_count": 6,
     "metadata": {},
     "output_type": "execute_result"
    }
   ],
   "source": [
    "# как это можно сделать с помощью numpy\n",
    "np.count_nonzero(x[:-1] < x[1:])\n"
   ]
  },
  {
   "cell_type": "code",
   "execution_count": 7,
   "metadata": {},
   "outputs": [
    {
     "name": "stdout",
     "output_type": "stream",
     "text": [
      "Speed difference: 52.3x\n"
     ]
    }
   ],
   "source": [
    "# Сравним время выполнения каждого способа\n",
    "\n",
    "from timeit import timeit\n",
    "# \n",
    "setup = 'from __main__ import count_transitions, x; import numpy as np'\n",
    "num = 1000\n",
    "t1 = timeit('count_transitions(x)', setup=setup, number=num)\n",
    "t2 = timeit('np.count_nonzero(x[:-1] < x[1:])', setup=setup, number=num)\n",
    "print('Speed difference: {:0.1f}x'.format(t1 / t2))\n"
   ]
  },
  {
   "cell_type": "markdown",
   "metadata": {},
   "source": [
    "Какую максимальную прибыль можно получить при первоначальной купле и дальнешей продаже условного финансового инструмента:"
   ]
  },
  {
   "cell_type": "code",
   "execution_count": 8,
   "metadata": {},
   "outputs": [
    {
     "name": "stdout",
     "output_type": "stream",
     "text": [
      "60\n"
     ]
    }
   ],
   "source": [
    "# Функция поиск разницы между текущей ценой и минимумом:\n",
    "def profit(prices):\n",
    "    \n",
    "        max_px = 0\n",
    "        min_px = prices[0]\n",
    "        \n",
    "        for px in prices[1:]:\n",
    "            \n",
    "            min_px = min(min_px, px)\n",
    "            max_px = max(px - min_px, max_px)\n",
    "            \n",
    "        return max_px\n",
    "    \n",
    "prices = (370, 260, 290, 130, 190, 150)\n",
    "print(profit(prices))\n"
   ]
  },
  {
   "cell_type": "code",
   "execution_count": 9,
   "metadata": {},
   "outputs": [],
   "source": [
    "# Create mostly NaN array with a few 'turning points' (local min/max).\n",
    "prices = np.full(100, fill_value=np.nan)\n",
    "prices[ [0, 25, 60, -1] ] = [80., 30., 75., 50.]\n",
    "# Linearly interpolate the missing values and add some noise.\n",
    "x = np.arange(len(prices))\n",
    "is_valid = ~np.isnan(prices)\n",
    "prices = np.interp(x=x, xp=x[is_valid], fp=prices[is_valid])\n",
    "prices += np.random.randn(len(prices)) * 2"
   ]
  },
  {
   "cell_type": "code",
   "execution_count": 10,
   "metadata": {
    "scrolled": true
   },
   "outputs": [
    {
     "data": {
      "text/plain": [
       "[<matplotlib.lines.Line2D at 0x4108808>]"
      ]
     },
     "execution_count": 10,
     "metadata": {},
     "output_type": "execute_result"
    },
    {
     "data": {
      "image/png": "[encoded data removed]",
      "text/plain": [
       "<Figure size 432x288 with 1 Axes>"
      ]
     },
     "metadata": {
      "needs_background": "light"
     },
     "output_type": "display_data"
    }
   ],
   "source": [
    "import matplotlib.pyplot as plt\n",
    "\n",
    "# Warning! This isn't a fully correct solution, but it works for now.\n",
    "# If the absolute min came after the absolute max, you'd have trouble.\n",
    "\n",
    "mn = np.argmin(prices)\n",
    "mx = mn + np.argmax(prices[mn:])\n",
    "kwargs = {'markersize': 12, 'linestyle': ''}\n",
    "fig, ax = plt.subplots()\n",
    "ax.plot(prices)\n",
    "ax.set_title('Price History')\n",
    "ax.set_xlabel('Time')\n",
    "ax.set_ylabel('Price')\n",
    "ax.plot(mn, prices[mn], color='green', **kwargs)\n",
    "ax.plot(mx, prices[mx], color='red', **kwargs)"
   ]
  },
  {
   "cell_type": "code",
   "execution_count": 11,
   "metadata": {},
   "outputs": [],
   "source": [
    "# Аккумулируем минимумы\n",
    "cummin = np.minimum.accumulate"
   ]
  },
  {
   "cell_type": "code",
   "execution_count": 12,
   "metadata": {},
   "outputs": [
    {
     "data": {
      "text/plain": [
       "True"
      ]
     },
     "execution_count": 12,
     "metadata": {},
     "output_type": "execute_result"
    }
   ],
   "source": [
    "# Реализация с помощю Numpy\n",
    "def profit_with_numpy(prices):\n",
    "    \n",
    "     #\"\"\"Price minus cumulative minimum price, element-wise.\"\"\"\n",
    "     prices = np.asarray(prices)\n",
    "    \n",
    "     return np.max(prices - cummin(prices))\n",
    "\n",
    "profit_with_numpy(prices)\n",
    "\n",
    "np.allclose(profit_with_numpy(prices), profit(prices))\n"
   ]
  },
  {
   "cell_type": "code",
   "execution_count": 13,
   "metadata": {},
   "outputs": [
    {
     "name": "stdout",
     "output_type": "stream",
     "text": [
      "[85 60 40 ...  3 92 56]\n"
     ]
    }
   ],
   "source": [
    "# Создадим временный ряд с потенциальными ценами\n",
    "seq = np.random.randint(0, 100, size=10000)\n",
    "print(seq)"
   ]
  },
  {
   "cell_type": "code",
   "execution_count": 14,
   "metadata": {},
   "outputs": [
    {
     "name": "stdout",
     "output_type": "stream",
     "text": [
      "Speed difference: 130.2x\n"
     ]
    }
   ],
   "source": [
    "# Сравним время:\n",
    "\n",
    "setup = ('from __main__ import profit_with_numpy, profit, seq;'\n",
    "           ' import numpy as np')\n",
    "\n",
    "num = 250\n",
    "pytime = timeit('profit(seq)', setup=setup, number=num)\n",
    "nptime = timeit('profit_with_numpy(seq)', setup=setup, number=num)\n",
    "print('Speed difference: {:0.1f}x'.format(pytime / nptime))"
   ]
  },
  {
   "cell_type": "code",
   "execution_count": 15,
   "metadata": {},
   "outputs": [
    {
     "data": {
      "text/plain": [
       "array([0.15, 0.5 , 3.5 ])"
      ]
     },
     "execution_count": 15,
     "metadata": {},
     "output_type": "execute_result"
    }
   ],
   "source": [
    "# Операция с массивами имеющими одинаковую размерность:\n",
    "a = np.array([1.5, 2.5, 3.5])\n",
    "b = np.array([10., 5., 1.])\n",
    "a / b"
   ]
  },
  {
   "cell_type": "code",
   "execution_count": 16,
   "metadata": {},
   "outputs": [
    {
     "data": {
      "text/plain": [
       "array([[ 0.59520824, 17.81767945],\n",
       "       [ 0.89468116, 20.08738952],\n",
       "       [ 0.11440006, 12.50619631]])"
      ]
     },
     "execution_count": 16,
     "metadata": {},
     "output_type": "execute_result"
    }
   ],
   "source": [
    "# Создадим набор данных\n",
    "sample = np.random.normal(loc=[2., 20.], scale=[1., 3.5],\n",
    "                              size=(3, 2))\n",
    "sample"
   ]
  },
  {
   "cell_type": "code",
   "execution_count": 17,
   "metadata": {},
   "outputs": [
    {
     "data": {
      "text/plain": [
       "array([ 0.53476316, 16.80375509])"
      ]
     },
     "execution_count": 17,
     "metadata": {},
     "output_type": "execute_result"
    }
   ],
   "source": [
    "# Средние значения в столбцах\n",
    "mu = sample.mean(axis=0)\n",
    "mu"
   ]
  },
  {
   "cell_type": "code",
   "execution_count": 18,
   "metadata": {},
   "outputs": [
    {
     "name": "stdout",
     "output_type": "stream",
     "text": [
      "sample: (3, 2) | means: (2,)\n"
     ]
    },
    {
     "data": {
      "text/plain": [
       "array([[ 0.06044509,  1.01392436],\n",
       "       [ 0.359918  ,  3.28363442],\n",
       "       [-0.42036309, -4.29755879]])"
      ]
     },
     "execution_count": 18,
     "metadata": {},
     "output_type": "execute_result"
    }
   ],
   "source": [
    "print('sample:', sample.shape, '| means:', mu.shape)\n",
    "\n",
    "#  Непосредственно вычтем среднее\n",
    "sample - mu\n"
   ]
  },
  {
   "cell_type": "code",
   "execution_count": 19,
   "metadata": {},
   "outputs": [
    {
     "data": {
      "text/plain": [
       "array([[ 0.18806633,  0.31914879],\n",
       "       [ 1.11983391,  1.03357607],\n",
       "       [-1.30790025, -1.35272486]])"
      ]
     },
     "execution_count": 19,
     "metadata": {},
     "output_type": "execute_result"
    }
   ],
   "source": [
    "# Стандартизация каждого столбца:\n",
    "(sample - sample.mean(axis=0)) / sample.std(axis=0)\n"
   ]
  },
  {
   "cell_type": "code",
   "execution_count": 20,
   "metadata": {},
   "outputs": [
    {
     "data": {
      "text/plain": [
       "array([[0.59520824],\n",
       "       [0.89468116],\n",
       "       [0.11440006]])"
      ]
     },
     "execution_count": 20,
     "metadata": {},
     "output_type": "execute_result"
    }
   ],
   "source": [
    "# Увеличим размерность массива чтобы провести необходимые манипуляции\n",
    "sample - sample.min(axis=1)[:, None]\n",
    "\n",
    "# Вычтем минимум\n",
    "sample.min(axis=1)[:, None]  # 3 minimums across 3 rows\n"
   ]
  },
  {
   "cell_type": "code",
   "execution_count": 21,
   "metadata": {},
   "outputs": [],
   "source": [
    "# Допустим, у вас есть следующие четыре массива:\n",
    "a = np.sin(np.arange(10)[:, None])\n",
    "b = np.random.randn(1, 10)\n",
    "c = np.full_like(a, 10)\n",
    "d = 8"
   ]
  },
  {
   "cell_type": "code",
   "execution_count": 22,
   "metadata": {},
   "outputs": [
    {
     "name": "stdout",
     "output_type": "stream",
     "text": [
      "(10, 1)\n",
      "(1, 10)\n",
      "(10, 1)\n",
      "(1,)\n"
     ]
    }
   ],
   "source": [
    "# Перед проверкой форм NumPy сначала преобразует скаляры в массивы с одним элементом:\n",
    "arrays = [np.atleast_1d(arr) for arr in (a, b, c, d)]\n",
    "\n",
    "for arr in arrays:\n",
    "     print(arr.shape)"
   ]
  },
  {
   "cell_type": "code",
   "execution_count": 23,
   "metadata": {},
   "outputs": [
    {
     "data": {
      "text/plain": [
       "False"
      ]
     },
     "execution_count": 23,
     "metadata": {},
     "output_type": "execute_result"
    }
   ],
   "source": [
    "# Вычислим размер  массива arr\n",
    "len(set(arr.shape for arr in arrays)) == 1"
   ]
  },
  {
   "cell_type": "code",
   "execution_count": 24,
   "metadata": {},
   "outputs": [
    {
     "data": {
      "text/plain": [
       "False"
      ]
     },
     "execution_count": 24,
     "metadata": {},
     "output_type": "execute_result"
    }
   ],
   "source": [
    "# вычислим число измерений массива arr\n",
    "len(set((arr.ndim) for arr in arrays)) == 1"
   ]
  },
  {
   "cell_type": "code",
   "execution_count": 25,
   "metadata": {},
   "outputs": [
    {
     "name": "stdout",
     "output_type": "stream",
     "text": [
      "[[10  1]\n",
      " [ 1 10]\n",
      " [10  1]\n",
      " [ 1  1]]\n"
     ]
    }
   ],
   "source": [
    "# Определим максимальную размерность\n",
    "maxdim = max(arr.ndim for arr in arrays)  # Maximum dimensionality\n",
    "# Добавим Shape\n",
    "shapes = np.array([(1,) * (maxdim - arr.ndim) + arr.shape for arr in arrays])\n",
    "\n",
    "print(shapes)"
   ]
  },
  {
   "cell_type": "code",
   "execution_count": 26,
   "metadata": {},
   "outputs": [
    {
     "data": {
      "text/plain": [
       "True"
      ]
     },
     "execution_count": 26,
     "metadata": {},
     "output_type": "execute_result"
    }
   ],
   "source": [
    "# Проверяем равна ли длина каждого измерения 1:\n",
    "masked = np.ma.masked_where(shapes == 1, shapes)\n",
    "# равны ли нулю разности между столбцами (np.ptp()) от пика к пику:\n",
    "np.all(masked.ptp(axis=0) == 0)  # ptp: max — min\n"
   ]
  },
  {
   "cell_type": "code",
   "execution_count": 27,
   "metadata": {},
   "outputs": [
    {
     "data": {
      "text/plain": [
       "True"
      ]
     },
     "execution_count": 27,
     "metadata": {},
     "output_type": "execute_result"
    }
   ],
   "source": [
    "# Инкапсулированная в одной функции, логика выглядит следующим образом:\n",
    "def can_broadcast(*arrays) -> bool:\n",
    "        arrays = [np.atleast_1d(arr) for arr in arrays]\n",
    "        if len(set(arr.shape for arr in arrays)) == 1:\n",
    "            return True\n",
    "        if len(set((arr.ndim) for arr in arrays)) == 1:\n",
    "            return True\n",
    "        maxdim = max(arr.ndim for arr in arrays)\n",
    "        shapes = np.array([(1,) * (maxdim - arr.ndim) + arr.shape\n",
    "                           for arr in arrays])\n",
    "        masked = np.ma.masked_where(shapes == 1, shapes)\n",
    "        return np.all(masked.ptp(axis=0) == 0)\n",
    "\n",
    "can_broadcast(a, b, c, d)"
   ]
  },
  {
   "cell_type": "code",
   "execution_count": 28,
   "metadata": {},
   "outputs": [
    {
     "data": {
      "text/plain": [
       "True"
      ]
     },
     "execution_count": 28,
     "metadata": {},
     "output_type": "execute_result"
    }
   ],
   "source": [
    "# функция проверки предварительной работоспособности:\n",
    "def can_broadcast(*arrays) -> bool:\n",
    "        try:\n",
    "            np.broadcast(*arrays)\n",
    "            return True\n",
    "        except ValueError:\n",
    "            return False\n",
    "\n",
    "can_broadcast(a, b, c, d)"
   ]
  },
  {
   "cell_type": "code",
   "execution_count": 29,
   "metadata": {},
   "outputs": [],
   "source": [
    "# Машинное обучение является одной из областей, которая часто может использовать векторизацию и вещание. \n",
    "# Допустим, у вас есть вершины треугольника (каждая строка является координатой x, y):\n",
    "\n",
    "tri = np.array([ [1, 1],\n",
    "                 [3, 1],\n",
    "                 [2, 3] ])\n"
   ]
  },
  {
   "cell_type": "code",
   "execution_count": 30,
   "metadata": {},
   "outputs": [
    {
     "name": "stdout",
     "output_type": "stream",
     "text": [
      "[2.         1.66666667]\n"
     ]
    }
   ],
   "source": [
    "# centroid этого «кластера» является координатой (x, y), которая является арифметикой среднее значение каждого столбца:\n",
    "centroid = tri.mean(axis=0)\n",
    "print(centroid)"
   ]
  },
  {
   "cell_type": "code",
   "execution_count": 31,
   "metadata": {},
   "outputs": [
    {
     "data": {
      "text/plain": [
       "<matplotlib.collections.PathCollection at 0x10c16cc8>"
      ]
     },
     "execution_count": 31,
     "metadata": {},
     "output_type": "execute_result"
    },
    {
     "data": {
      "image/png": "[encoded data removed]",
      "text/plain": [
       "<Figure size 288x288 with 1 Axes>"
      ]
     },
     "metadata": {
      "needs_background": "light"
     },
     "output_type": "display_data"
    }
   ],
   "source": [
    "# Посмотрим как это выглядит\n",
    "trishape = plt.Polygon(tri, edgecolor='r', alpha=0.2, lw=5)\n",
    "_, ax = plt.subplots(figsize=(4, 4))\n",
    "ax.add_patch(trishape)\n",
    "ax.set_ylim([.5, 3.5])\n",
    "ax.set_xlim([.5, 3.5])\n",
    "ax.scatter(*centroid, color='g', marker='D', s=70)\n",
    "ax.scatter(*tri.T, color='b',  s=70)"
   ]
  },
  {
   "cell_type": "code",
   "execution_count": 32,
   "metadata": {},
   "outputs": [
    {
     "data": {
      "text/plain": [
       "array([1.41421356, 3.16227766, 3.60555128])"
      ]
     },
     "execution_count": 32,
     "metadata": {},
     "output_type": "execute_result"
    }
   ],
   "source": [
    "# Таким образом, для набора координат в tri сверху, евклидово расстояние каждой точки от начала координат (0, 0) будет:\n",
    "np.sum(tri**2, axis=1) ** 0.5  # Or: np.sqrt(np.sum(np.square(tri), 1))\n"
   ]
  },
  {
   "cell_type": "code",
   "execution_count": 33,
   "metadata": {},
   "outputs": [
    {
     "data": {
      "text/plain": [
       "array([1.41421356, 3.16227766, 3.60555128])"
      ]
     },
     "execution_count": 33,
     "metadata": {},
     "output_type": "execute_result"
    }
   ],
   "source": [
    "# Вы можете признать, что мы на самом деле просто находим евклидовы нормы:\n",
    "np.linalg.norm(tri, axis=1)\n"
   ]
  },
  {
   "cell_type": "code",
   "execution_count": 34,
   "metadata": {},
   "outputs": [
    {
     "data": {
      "text/plain": [
       "array([1.20185043, 1.20185043, 1.33333333])"
      ]
     },
     "execution_count": 34,
     "metadata": {},
     "output_type": "execute_result"
    }
   ],
   "source": [
    "# Вместо ссылки на начало координат вы также можете найти норму каждой точки относительно центроида треугольника:\n",
    "np.linalg.norm(tri - centroid, axis=1)"
   ]
  },
  {
   "cell_type": "code",
   "execution_count": 35,
   "metadata": {},
   "outputs": [],
   "source": [
    "X = np.repeat([ [5, 5], [10, 10] ], [5, 5], axis=0)\n",
    "X = X + np.random.randn(*X.shape)  # 2 distinct \"blobs\"\n",
    "centroids = np.array([ [5, 5], [10, 10] ])\n"
   ]
  },
  {
   "cell_type": "code",
   "execution_count": 36,
   "metadata": {
    "scrolled": true
   },
   "outputs": [
    {
     "data": {
      "text/plain": [
       "array([[ 5.90543558,  5.85249519],\n",
       "       [ 4.83350373,  3.51437696],\n",
       "       [ 5.12266211,  5.19885673],\n",
       "       [ 3.91487495,  3.39679006],\n",
       "       [ 3.77937642,  4.32130786],\n",
       "       [ 8.62687298,  8.52629556],\n",
       "       [ 8.91293618, 10.90605328],\n",
       "       [10.71308229,  9.92320785],\n",
       "       [11.42241226, 10.42463622],\n",
       "       [10.81588492, 10.84456983]])"
      ]
     },
     "execution_count": 36,
     "metadata": {},
     "output_type": "execute_result"
    }
   ],
   "source": [
    "# Посмотрим содержимое X\n",
    "X"
   ]
  },
  {
   "cell_type": "code",
   "execution_count": 37,
   "metadata": {},
   "outputs": [
    {
     "data": {
      "text/plain": [
       "array([[ 5,  5],\n",
       "       [10, 10]])"
      ]
     },
     "execution_count": 37,
     "metadata": {},
     "output_type": "execute_result"
    }
   ],
   "source": [
    "# Посмотрим содержимое centroids\n",
    "centroids"
   ]
  },
  {
   "cell_type": "markdown",
   "metadata": {},
   "source": [
    "Другими словами, мы хотим ответить на вопрос, к какому центроиду относится каждая точка в X? \n",
    "Нам нужно изменить форму, чтобы включить вещание здесь, чтобы вычислить евклидово расстояние между каждой точкой в X и \n",
    "каждой точкой в центроидах:\n"
   ]
  },
  {
   "cell_type": "code",
   "execution_count": 38,
   "metadata": {},
   "outputs": [
    {
     "data": {
      "text/plain": [
       "array([[[ 5,  5]],\n",
       "\n",
       "       [[10, 10]]])"
      ]
     },
     "execution_count": 38,
     "metadata": {},
     "output_type": "execute_result"
    }
   ],
   "source": [
    "centroids[:, None]"
   ]
  },
  {
   "cell_type": "code",
   "execution_count": 39,
   "metadata": {},
   "outputs": [
    {
     "data": {
      "text/plain": [
       "(2, 1, 2)"
      ]
     },
     "execution_count": 39,
     "metadata": {},
     "output_type": "execute_result"
    }
   ],
   "source": [
    "centroids[:, None].shape"
   ]
  },
  {
   "cell_type": "code",
   "execution_count": 40,
   "metadata": {},
   "outputs": [
    {
     "data": {
      "text/plain": [
       "array([[1.24, 1.49, 0.23, 1.94, 1.4 , 5.06, 7.08, 7.54, 8.41, 8.25],\n",
       "       [5.83, 8.29, 6.84, 8.98, 8.42, 2.01, 1.42, 0.72, 1.48, 1.17]])"
      ]
     },
     "execution_count": 40,
     "metadata": {},
     "output_type": "execute_result"
    }
   ],
   "source": [
    "# Вычитание один массив из другого, используя комбинаторный продукт их строк:\n",
    "np.linalg.norm(X - centroids[:, None], axis=2).round(2)\n"
   ]
  },
  {
   "cell_type": "code",
   "execution_count": 41,
   "metadata": {},
   "outputs": [],
   "source": [
    "# Все вместе это можно сложить в функциональную форму:\n",
    "def get_labels(X, centroids) -> np.ndarray:\n",
    "    \n",
    "        return np.argmin(np.linalg.norm(X - centroids[:, None], axis=2), axis=0)\n",
    "    \n",
    "    \n",
    "labels = get_labels(X, centroids)"
   ]
  },
  {
   "cell_type": "code",
   "execution_count": 42,
   "metadata": {},
   "outputs": [
    {
     "data": {
      "text/plain": [
       "Text(0.5, 1.0, 'One K-Means Iteration: Predicted Classes')"
      ]
     },
     "execution_count": 42,
     "metadata": {},
     "output_type": "execute_result"
    },
    {
     "data": {
      "image/png": "[encoded data removed]",
      "text/plain": [
       "<Figure size 360x360 with 1 Axes>"
      ]
     },
     "metadata": {
      "needs_background": "light"
     },
     "output_type": "display_data"
    }
   ],
   "source": [
    "\n",
    "# Давайте рассмотрим это визуально, построив график как двух кластеров, \n",
    "# так и их назначенных меток с цветовым отображением:\n",
    "\n",
    "    \n",
    "c1, c2 = ['#bc13fe', '#be0119']  # https://xkcd.com/color/rgb/\n",
    "llim, ulim  = np.trunc([X.min() * 0.9, X.max() * 1.1])\n",
    "_, ax = plt.subplots(figsize=(5, 5))\n",
    "ax.scatter(*X.T, c=np.where(labels, c2, c1), alpha=0.4, s=80)\n",
    "ax.scatter(*centroids.T, c=[c1, c2], marker='s', s=95, edgecolor ='yellow')\n",
    "ax.set_ylim([llim, ulim])\n",
    "ax.set_xlim([llim, ulim])\n",
    "ax.set_title('One K-Means Iteration: Predicted Classes')"
   ]
  }
 ],
 "metadata": {
  "kernelspec": {
   "display_name": "Python 3",
   "language": "python",
   "name": "python3"
  },
  "language_info": {
   "codemirror_mode": {
    "name": "ipython",
    "version": 3
   },
   "file_extension": ".py",
   "mimetype": "text/x-python",
   "name": "python",
   "nbconvert_exporter": "python",
   "pygments_lexer": "ipython3",
   "version": "3.7.9"
  }
 },
 "nbformat": 4,
 "nbformat_minor": 4
}
