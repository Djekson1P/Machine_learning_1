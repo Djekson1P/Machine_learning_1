{
 "cells": [
  {
   "cell_type": "markdown",
   "metadata": {},
   "source": [
    "Что такое аномалия / выброс?\n",
    "\n",
    "В статистике, выбросы - это точки данных, которые не принадлежат определенной популяции. Это ненормальное наблюдение, которое находится далеко от других ценностей. Выделение - это наблюдение, которое отличается от хорошо структурированных данных.\n",
    "\n",
    "Например, вы можете ясно увидеть выбросы в этом списке: [20,24,22,19,29,18,4300, 30,18]\n",
    "\n",
    "Это легко идентифицировать, когда наблюдения представляют собой просто набор чисел, и он одномерный, но когда у вас есть тысячи наблюдений или многомерных измерений, вам понадобятся более умные способы обнаружения этих значений. Это то, что эта статья будет освещать.\n",
    "\n",
    "\n",
    "Почему мы заботимся об аномалиях?\n",
    "Обнаружение выбросов или аномалий является одной из основных проблем интеллектуального анализа данных. Появляющееся расширение и продолжающийся рост данных и распространение устройств IoT заставляют нас переосмыслить подход к аномалиям и варианты использования, которые могут быть построены с учетом этих аномалий.\n",
    "\n",
    "Теперь у нас есть умные часы и браслеты, которые могут определять сердцебиение каждые несколько минут. Обнаружение аномалий в данных сердцебиения может помочь в прогнозировании сердечных заболеваний. Аномалии в схемах движения могут помочь в прогнозировании аварий. Его также можно использовать для выявления узких мест в сетевой инфраструктуре и трафика между серверами. Следовательно, варианты использования и решения, основанные на обнаружении аномалий, безграничны.\n",
    "\n",
    "Еще одна причина, по которой нам необходимо обнаруживать аномалии, заключается в том, что при подготовке наборов данных для моделей машинного обучения действительно важно обнаружить все выбросы и либо избавиться от них, либо проанализировать их, чтобы понять, почему они были у вас в первую очередь.\n",
    "\n",
    "Теперь давайте рассмотрим 5 распространенных способов обнаружения аномалий, начиная с самого простого.\n",
    "\n"
   ]
  },
  {
   "cell_type": "markdown",
   "metadata": {},
   "source": [
    "Метод 1 - Стандартное отклонение:\n",
    "В статистике, если распределение данных приблизительно нормальное, то около 68% значений данных находятся в пределах одного стандартного отклонения от среднего, а около 95% находятся в пределах двух стандартных отклонений, иоколо 99,7%лежат в пределах трех стандартных отклонений\n",
    "\n"
   ]
  },
  {
   "cell_type": "markdown",
   "metadata": {},
   "source": [
    "Поэтому, если у вас есть какая-либо точка данных, которая более чем в 3 раза превышает стандартное отклонение, то эти точки, скорее всего, будут аномальными или выбросами.\n",
    "\n",
    "Давайте посмотрим код."
   ]
  },
  {
   "cell_type": "code",
   "execution_count": 1,
   "metadata": {},
   "outputs": [],
   "source": [
    "import numpy as np\n",
    "import matplotlib.pyplot as plt\n",
    "import random\n"
   ]
  },
  {
   "cell_type": "code",
   "execution_count": 2,
   "metadata": {},
   "outputs": [],
   "source": [
    "random.seed(1)\n",
    "anomalies = []\n",
    "\n",
    "# умножьте и сложите случайные числа, чтобы получить некоторые реальные значения\n",
    "data = np.random.randn(50000)  * 20 + 20\n",
    "\n"
   ]
  },
  {
   "cell_type": "code",
   "execution_count": 3,
   "metadata": {},
   "outputs": [
    {
     "name": "stdout",
     "output_type": "stream",
     "text": [
      "-39.88753495920754\n"
     ]
    },
    {
     "data": {
      "text/plain": [
       "[83.64632039996252,\n",
       " -45.72701029813146,\n",
       " -43.44358190489408,\n",
       " 87.46164236295655,\n",
       " 84.71455203299102,\n",
       " 90.0040560540636,\n",
       " -41.014474842730735,\n",
       " 83.0624579684502,\n",
       " 83.43710646381066,\n",
       " 80.53029417565693,\n",
       " -45.56445947802649,\n",
       " 87.01291238776568,\n",
       " -43.15516830228174,\n",
       " 81.17687827166378,\n",
       " -46.445589130152015,\n",
       " 83.28160575132235,\n",
       " -42.50337400523854,\n",
       " -53.752272042842364,\n",
       " -40.093323733861766,\n",
       " 81.14202154150092,\n",
       " 86.83078275439138,\n",
       " 82.16254494792821,\n",
       " -46.63477332702806,\n",
       " -42.02995741791513,\n",
       " 84.04608579486907,\n",
       " 81.94341554577052,\n",
       " -49.83869863181613,\n",
       " -42.42065293858478,\n",
       " 80.12862409465846,\n",
       " 86.80088352322555,\n",
       " -43.87170596541953,\n",
       " -43.316134563401434,\n",
       " 82.05176793938878,\n",
       " 85.74658725667098,\n",
       " -41.534261859153865,\n",
       " -47.09749554468107,\n",
       " -45.50010733769503,\n",
       " -42.25838548303257,\n",
       " 81.07079436818114,\n",
       " 81.97324591302603,\n",
       " 89.30435800507605,\n",
       " -43.12047246844875,\n",
       " 93.18991835564606,\n",
       " -46.15414799668572,\n",
       " 86.3364276246582,\n",
       " -44.61861572679038,\n",
       " -67.77615139456114,\n",
       " -40.2657000379604,\n",
       " -41.50494644320422,\n",
       " -42.372168477656665,\n",
       " 84.71083547125049,\n",
       " 82.66893393774475,\n",
       " 87.68658200819016,\n",
       " 87.60098689461552,\n",
       " -46.6180925977807,\n",
       " -40.57601787378512,\n",
       " -44.54389521666697,\n",
       " -48.384650357590175,\n",
       " 81.59594675990436,\n",
       " 80.56098788289114,\n",
       " -40.45822373542365,\n",
       " -48.32233948486112,\n",
       " -45.334055646763105,\n",
       " 80.88992305801955,\n",
       " 83.09623987208553,\n",
       " 94.097521576966,\n",
       " -45.77418753892859,\n",
       " 87.60772964852676,\n",
       " 84.5897702562915,\n",
       " -45.77543723316465,\n",
       " -41.39176119621183,\n",
       " 85.75233774384189,\n",
       " 80.69678531927542,\n",
       " 87.1162806973351,\n",
       " 86.11796497659822,\n",
       " -56.44436314174236,\n",
       " -47.12007655012145,\n",
       " 85.99970263220872,\n",
       " -51.07222825022163,\n",
       " -41.28555736815373,\n",
       " 80.88983637860852,\n",
       " 81.25900889868619,\n",
       " 81.87991572930089,\n",
       " -45.33750982444518,\n",
       " 83.32969940252238,\n",
       " -44.802377792797,\n",
       " 81.7038096543487,\n",
       " 105.36038523433875,\n",
       " 80.66020348694178,\n",
       " 89.9719025495031,\n",
       " -40.71731366072018,\n",
       " -44.14435595145454,\n",
       " 81.42566490992564,\n",
       " -43.650041616876535,\n",
       " 87.08889437662698,\n",
       " -49.61141608268031,\n",
       " 91.07565997944658,\n",
       " -41.665475435645746,\n",
       " 95.17661941532789,\n",
       " 91.93480181086916,\n",
       " 81.77268417319613,\n",
       " -41.52644322656381,\n",
       " -44.512913235418466,\n",
       " 84.24553876489904,\n",
       " -41.55339711166778,\n",
       " 88.40867496138215,\n",
       " 80.82131033353951,\n",
       " -51.29499203616004,\n",
       " -42.16149115053577,\n",
       " 80.61132422216411,\n",
       " -55.71509239399164,\n",
       " -42.364829494270204,\n",
       " 82.98157228127988,\n",
       " -49.16580697974079,\n",
       " -40.10815215700619,\n",
       " 83.69703676454645,\n",
       " -41.511285293535856,\n",
       " -44.066081431242424,\n",
       " 84.25429886757152,\n",
       " -47.62586822305387,\n",
       " -46.256045139026625,\n",
       " -50.22965528971193,\n",
       " 89.60238815660499,\n",
       " -41.82741692258948,\n",
       " 99.0168592225847,\n",
       " 82.32637574217868,\n",
       " 82.3649116781907,\n",
       " 80.51458693522619,\n",
       " -40.364769183006295,\n",
       " 86.359713871351,\n",
       " 80.2379092409032,\n",
       " -52.51234563885811,\n",
       " -43.408997051353204,\n",
       " -55.85619663810844,\n",
       " -44.614438052001034,\n",
       " -46.49615205374417,\n",
       " 84.1880031560674]"
      ]
     },
     "execution_count": 3,
     "metadata": {},
     "output_type": "execute_result"
    }
   ],
   "source": [
    "# Функция обнаружения выбросов на одномерных наборах данных.\n",
    "\n",
    "def find_anomalies(random_data):\n",
    "    # Set upper and lower limit to 3 standard deviation\n",
    "    random_data_std = np.std(random_data)\n",
    "    random_data_mean = np.mean(random_data)\n",
    "    anomaly_cut_off = random_data_std * 3\n",
    "    \n",
    "    lower_limit  = random_data_mean - anomaly_cut_off \n",
    "    upper_limit = random_data_mean + anomaly_cut_off\n",
    "    print(lower_limit)\n",
    "    # Generate outliers\n",
    "    for outlier in random_data:\n",
    "        if outlier > upper_limit or outlier < lower_limit:\n",
    "            anomalies.append(outlier)\n",
    "    return anomalies\n",
    "\n",
    "find_anomalies(data)"
   ]
  },
  {
   "cell_type": "markdown",
   "metadata": {},
   "source": [
    "Выход этого кода представляет собой список значений выше 80 и ниже -40. Обратите внимание, что набор данных, который я передаю, является одномерным набором данных. Теперь давайте рассмотрим более продвинутые методы для многомерных наборов данных."
   ]
  },
  {
   "cell_type": "markdown",
   "metadata": {},
   "source": [
    "Графики представляют собой графическое изображение числовых данных через их квантили. Это очень простой, но эффективный способ визуализации выбросов. Думайте о нижнем и верхнем усиках как о границах распределения данных. Любые точки данных, которые показывают выше или ниже усов, могут считаться выбросами или аномальными. Вот код для построения прямоугольного графика:"
   ]
  },
  {
   "cell_type": "code",
   "execution_count": 4,
   "metadata": {},
   "outputs": [
    {
     "data": {
      "text/plain": [
       "<AxesSubplot:>"
      ]
     },
     "execution_count": 4,
     "metadata": {},
     "output_type": "execute_result"
    },
    {
     "data": {
      "image/png": "[encoded data removed]",
      "text/plain": [
       "<Figure size 432x288 with 1 Axes>"
      ]
     },
     "metadata": {
      "needs_background": "light"
     },
     "output_type": "display_data"
    }
   ],
   "source": [
    "import seaborn as sns\n",
    "import matplotlib.pyplot as plt\n",
    "random_data = np.random.randn(50000,2)  * 20 + 20\n",
    "\n",
    "sns.boxplot(data=random_data)"
   ]
  },
  {
   "cell_type": "markdown",
   "metadata": {},
   "source": [
    "Приведенный выше код отображает график ниже. Как вы можете видеть, он считает все, что выше 75 или ниже ~ -35, как выброс. Результаты очень близки к методу 1 выше.\n",
    "\n"
   ]
  },
  {
   "cell_type": "code",
   "execution_count": null,
   "metadata": {},
   "outputs": [],
   "source": []
  },
  {
   "cell_type": "code",
   "execution_count": null,
   "metadata": {},
   "outputs": [],
   "source": []
  },
  {
   "cell_type": "markdown",
   "metadata": {},
   "source": [
    "Метод 3 - Кластеризация DBScan:\n",
    "DBScan - это алгоритм кластеризации, который использует кластерные данные в группы. Он также используется в качестве метода обнаружения аномалий на основе плотности как с одиночными, так и с многомерными данными. Другие алгоритмы кластеризации, такие как k-средних и иерархическая кластеризация, также могут быть использованы для обнаружения выбросов. В этом случае я покажу вам пример использования DBScan, но прежде чем мы начнем, давайте рассмотрим некоторые важные концепции. DBScan имеет три важных понятия:\n",
    "\n",
    "Основные пункты:Чтобы понять концепцию ключевых точек, нам нужно посетить некоторые гиперпараметры, используемые для определения задания DBScan. Первый гиперпараметр (HP)min_samples.Это просто минимальное количество базовых точек, необходимых для формирования кластера.,Второй важный HPEPS. прибыль на акциюмаксимальное расстояние между двумя выборками для них, которые должны рассматриваться как в одном кластере\n",
    "Пограничные пунктынаходятся в том же кластере, что и основные точки, но гораздо дальше от центра кластера.\n",
    "\n",
    "Источник:https://stackoverflow.com/questions/34394641/dbscan-clustering-what-happens-when-border-point-of-one-cluster-is-considered\n",
    "Все остальное называетсяШумовые очки,это точки данных, которые не принадлежат ни одному кластеру. Они могут быть аномальными или не аномальными и требуют дальнейшего изучения. Теперь давайте посмотрим код."
   ]
  },
  {
   "cell_type": "code",
   "execution_count": 5,
   "metadata": {},
   "outputs": [
    {
     "data": {
      "text/plain": [
       "99"
      ]
     },
     "execution_count": 5,
     "metadata": {},
     "output_type": "execute_result"
    }
   ],
   "source": [
    "from sklearn.cluster import DBSCAN\n",
    "random.seed(1)\n",
    "random_data = np.random.randn(50000,2)  * 20 + 20\n",
    "\n",
    "outlier_detection = DBSCAN(min_samples = 2, eps = 3)\n",
    "clusters = outlier_detection.fit_predict(random_data)\n",
    "list(clusters).count(-1)"
   ]
  },
  {
   "cell_type": "markdown",
   "metadata": {},
   "source": [
    "Вывод вышеуказанного кода 99.Это общее количество шумных точек. SKLearn помечает шумные точки как (-1). Недостатком этого метода является то, что чем выше размер, тем менее точным он становится. Вы также должны сделать несколько предположений, таких как оценка правильного значения дляEPS Wкоторый может быть сложным."
   ]
  },
  {
   "cell_type": "markdown",
   "metadata": {},
   "source": [
    "Метод 4 - Изоляция леса:\n",
    "Isolation Forest - это алгоритм обучения без присмотра, который принадлежит к семейству деревьев решений ансамбля. Этот подход отличается от всех предыдущих методов. Все предыдущие пытались найти нормальную область данных, а затем идентифицировали что-либо за пределами этой определенной области как отклонение или аномальность.\n",
    "\n",
    "Этот метод работает по-другому. Он явно выделяет аномалии вместо того, чтобы профилировать и строить нормальные точки и области, назначая оценку каждой точке данных. Он использует тот факт, что аномалии являются точками данных меньшинства и что они имеют значения атрибутов, которые сильно отличаются от значений в обычных случаях. Этот алгоритм отлично работает с наборами данных очень большого размера, и он оказался очень эффективным способом обнаружения аномалий. Поскольку в этой статье основное внимание уделяется реализации, а не ноу-хау, я не буду подробно останавливаться на том, как работает алгоритм. Тем не менее, полная информация о том, как это работает, рассматривается в этомбумага,\n",
    "\n",
    "Теперь давайте рассмотрим код:"
   ]
  },
  {
   "cell_type": "code",
   "execution_count": 6,
   "metadata": {},
   "outputs": [
    {
     "name": "stderr",
     "output_type": "stream",
     "text": [
      "c:\\users\\evgen\\appdata\\local\\programs\\python\\python37\\lib\\site-packages\\sklearn\\ensemble\\_iforest.py:255: FutureWarning: 'behaviour' is deprecated in 0.22 and will be removed in 0.24. You should not pass or set this parameter.\n",
      "  FutureWarning\n"
     ]
    },
    {
     "data": {
      "text/plain": [
       "array([-1,  1, -1, ...,  1,  1,  1])"
      ]
     },
     "execution_count": 6,
     "metadata": {},
     "output_type": "execute_result"
    }
   ],
   "source": [
    "from sklearn.ensemble import IsolationForest\n",
    "import numpy as np\n",
    "np.random.seed(1)\n",
    "random_data = np.random.randn(50000,2)  * 20 + 20\n",
    "\n",
    "clf = IsolationForest( behaviour = 'new', max_samples=100, random_state = 1, contamination= 'auto')\n",
    "preds = clf.fit_predict(random_data)\n",
    "preds"
   ]
  },
  {
   "cell_type": "markdown",
   "metadata": {},
   "source": [
    "Этот код выведет прогнозы для каждой точки данных в массиве. Если результат равен -1, это означает, что эта конкретная точка данных является выбросом. Если результат равен 1, то это означает, что точка данных не является выбросом"
   ]
  },
  {
   "cell_type": "markdown",
   "metadata": {},
   "source": [
    "Метод 5 - Устойчивый лес случайных рубок:\n",
    "Алгоритм Random Cut Forest (RCF) - это неконтролируемый алгоритм Amazon для обнаружения аномалий. Это работает, связывая оценку аномалии также. Низкие значения указывают на то, что точка данных считается «нормальной». Высокие значения указывают на наличие аномалии в данных. Определения «низкий» и «высокий» зависят от приложения, но общепринятая практика предполагает, что оценки, превышающие три стандартных отклонения от среднего значения, считаются аномальными. Детали алгоритма можно найти в этомбумага,\n",
    "\n",
    "Самое замечательное в этом алгоритме то, что он работает с данными очень большого размера. Он также может работать с потоковыми данными в режиме реального времени (встроенными в AWS Kinesis Analytics), а также с автономными данными.\n",
    "\n"
   ]
  },
  {
   "cell_type": "markdown",
   "metadata": {},
   "source": [
    "Вывод:\n",
    "Мы живем в мире, где данные увеличиваются с каждой секундой. Значение данных может уменьшаться со временем, если не используется должным образом. Поиск аномалий в режиме онлайн в потоке или в автономном режиме в наборе данных имеет решающее значение для выявления проблем в бизнесе или создания упреждающего решения для потенциального обнаружения проблемы до ее возникновения или даже на этапе анализа предварительных данных (EDA) для подготовки набора данных для ML , Я надеюсь, что вы найдете эту статью полезной, дайте мне знать, что вы думаете в разделе комментариев ниже."
   ]
  }
 ],
 "metadata": {
  "kernelspec": {
   "display_name": "Python 3",
   "language": "python",
   "name": "python3"
  },
  "language_info": {
   "codemirror_mode": {
    "name": "ipython",
    "version": 3
   },
   "file_extension": ".py",
   "mimetype": "text/x-python",
   "name": "python",
   "nbconvert_exporter": "python",
   "pygments_lexer": "ipython3",
   "version": "3.7.9"
  }
 },
 "nbformat": 4,
 "nbformat_minor": 4
}
