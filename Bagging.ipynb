{
 "cells": [
  {
   "cell_type": "markdown",
   "metadata": {},
   "source": [
    "Бэггинг - алгоритм классификации при котором все классификатароы работают и обучаются параллельно. При градентном бустинге обычно исправляются ошибки слабых мест, при беггинге же ошибки компенсируются при голосовании. При этом при беггинге каждый из методов должен быть самостоятелен. Это или классификаторы обученные на разных методах или обученные на независимых наборах данных.\n",
    "Если идти по пути разделения данных то допускается ислопльзовать один метод.\n",
    "\n",
    "Беггинг обычно используется для классификации многомерных объектов. Рассматриваемый алгоритм помогает добиться качественной классификации в условиях, когда разделить объекты на группы на всем пространстве параметров не представляется возможным. Предлагается разделить пространство характеристик на подмножества объединенных по смыслу параметров. Классификация на каждом подпространстве производится отдельно, затем результаты учитываются в голосовании. В этом случае будет учтен вклад каждой смысловой группы и много повысится вероятность того, что итоговые результаты классификации окажутся более качественными нежели без деления на подпространства, так как параметры, по которым представители разных классов неотличимы, попадут, почти наверняка, не во все группы."
   ]
  },
  {
   "cell_type": "code",
   "execution_count": 1,
   "metadata": {},
   "outputs": [],
   "source": [
    "# Подргужаем библиотеки\n",
    "\n",
    "import pandas as pd\n",
    "\n",
    "from sklearn.model_selection import GridSearchCV\n",
    "from sklearn.model_selection import train_test_split \n",
    "from sklearn.model_selection import RandomizedSearchCV\n",
    "\n",
    "from sklearn.ensemble import BaggingClassifier"
   ]
  },
  {
   "cell_type": "code",
   "execution_count": 2,
   "metadata": {},
   "outputs": [],
   "source": [
    "\n",
    "# Подружаем изначальный набора данных\n",
    "data = pd.read_csv(r'C:\\Тест\\Python_Обучение\\data\\titanic.csv')\n",
    "\n",
    "# Выбираем обучающий набор, удаляя не нужные столбцы\n",
    "x = data.drop([\"PassengerId\", \"Survived\", \"Name\", \"Ticket\", \"Cabin\"], axis=1)\n",
    "\n",
    "#преобразуем строковые значения в числовые. Для проведения дальльнейшего анализа.\n",
    "x = pd.get_dummies(x)\n",
    "\n",
    "# Все пропуски в обучаеющем наборе заполним медианным значением\n",
    "x = x.fillna({'Age': x.Age.median()})\n",
    "\n",
    "# Целевой набор. В данном случае остался ли жив человек.\n",
    "y = data.Survived"
   ]
  },
  {
   "cell_type": "code",
   "execution_count": 3,
   "metadata": {},
   "outputs": [],
   "source": [
    "\n",
    "\n",
    "# Разбиваем на тестовые и тренировочные признаки и ответы в соотношении 67 к 33.\n",
    "# random_state - задает зерно случайности при выборке строк. \n",
    "# Если его не задать, то при каждом запуске в тест и train будут попадать разные строки.\n",
    "X_train, X_test, y_train, y_test = train_test_split(x, y, test_size=0.33, random_state = 42)\n",
    "\n",
    "\n"
   ]
  },
  {
   "cell_type": "code",
   "execution_count": 4,
   "metadata": {},
   "outputs": [
    {
     "name": "stdout",
     "output_type": "stream",
     "text": [
      "Accuracy: 80.77%\n"
     ]
    }
   ],
   "source": [
    "clf_BC = BaggingClassifier()\n",
    "\n",
    "\n",
    "\n",
    "clf_BC.fit(X_train, y_train)\n",
    "\n",
    "\n",
    "\n",
    "# Предскажем значения на тестовой выборке\n",
    "# RF.score(X_test, y_test)\n",
    "\n",
    "\n",
    "# Точность для алгоритма Беггинг на \"минималках\" составит при этом:\n",
    "accuracy = clf_BC.score(X_test, y_test) \n",
    "print(\"Accuracy: %.2f%%\" % (accuracy * 100.0))\n",
    "\n"
   ]
  }
 ],
 "metadata": {
  "kernelspec": {
   "display_name": "Python 3",
   "language": "python",
   "name": "python3"
  },
  "language_info": {
   "codemirror_mode": {
    "name": "ipython",
    "version": 3
   },
   "file_extension": ".py",
   "mimetype": "text/x-python",
   "name": "python",
   "nbconvert_exporter": "python",
   "pygments_lexer": "ipython3",
   "version": "3.7.9"
  }
 },
 "nbformat": 4,
 "nbformat_minor": 4
}
