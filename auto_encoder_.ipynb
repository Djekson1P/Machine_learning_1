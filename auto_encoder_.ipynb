{
 "cells": [
  {
   "cell_type": "markdown",
   "metadata": {},
   "source": [
    "Autoencoder (автокодер, автоэнкодер, AE) — нейронная сеть, которая копирует входные данные на выход. По архитектуре похож на персептрон. Автоэнкодеры сжимают входные данные для представления их в latent-space (скрытое пространство), а затем восстанавливают из этого представления output (выходные данные). Цель — получить на выходном слое отклик, наиболее близкий к входному.\n",
    "\n",
    "Отличительная особенность автоэнкодеров — количество нейронов на входе и на выходе совпадает.\n",
    "\n",
    "Автокодер состоит из двух частей:\n",
    "\n",
    "Энкодер: отвечает за сжатие входа в latent-space. Представлен функцией кодирования h = f (x);\n",
    "Декодер: предназначеа для восстановления ввода из latent-space. Представлен функцией декодирования h = f (x).\n",
    "Архитектура автокодеров\n",
    "Архитектура автоэнкодера\n",
    "Таким образом, автокодер описывают функцией g (f (x)) = r, где r совпадает с изначальным x на входе.\n",
    "\n",
    "Зачем копировать вход на выход\n",
    "Если бы единственной задачей автоэнкодеров было копирование входных данных на выход, они были бы бесполезны. Исследователи рассчитывают на то, что скрытое представление h будет обладать полезными свойствами.\n",
    "\n",
    "Этого добиваются созданием ограничений для задачи копирования. Один из способов получить полезные результаты от автоэнкодера — ограничить h размерами меньшими , чем x. D этом случае автокодирование называется неполным.\n",
    "\n",
    "Автоэнкодер может начать выполнять задачу копирования, не извлекая полезной информации о распределении данных, если\n",
    "\n",
    "размерность скрытого представления совпадает с размерностью входа;\n",
    "размерность скрытого представления больше, чем размерность входа;\n",
    "автоэнкодеру предоставляется слишком большой объем данных.\n",
    "В этих случаях даже линейный кодер и линейный декодер копируют входные данные на выход, не изучая ничего полезного о распределении.\n",
    "\n",
    "В идеале можно организовать любую архитектуру автокодера, задавая размер кода и емкость энкодера и декодера на основе сложности моделируемого распределения."
   ]
  },
  {
   "cell_type": "markdown",
   "metadata": {},
   "source": [
    "Типы автоэнкодеров\n",
    "В этой заметке будут описаны четыре следующих типа автокодеров:\n",
    "\n",
    "Автокодер Vanilla;\n",
    "Многослойный автокодер;\n",
    "Сверточный автокодер;\n",
    "Регуляризованный.\n"
   ]
  },
  {
   "cell_type": "markdown",
   "metadata": {},
   "source": [
    "Давайте реализуем относительно простой автоэнкодер в виде многосвязной НС для представления изображений цифр из БД MNIST, с которой ранее мы уже работали. На этом примере мы наглядно увидим результат использования сложной нелинейной модели.\n"
   ]
  },
  {
   "cell_type": "code",
   "execution_count": 1,
   "metadata": {},
   "outputs": [
    {
     "name": "stderr",
     "output_type": "stream",
     "text": [
      "c:\\users\\evgen\\appdata\\local\\programs\\python\\python37\\lib\\site-packages\\tensorflow\\python\\framework\\dtypes.py:516: FutureWarning: Passing (type, 1) or '1type' as a synonym of type is deprecated; in a future version of numpy, it will be understood as (type, (1,)) / '(1,)type'.\n",
      "  _np_qint8 = np.dtype([(\"qint8\", np.int8, 1)])\n",
      "c:\\users\\evgen\\appdata\\local\\programs\\python\\python37\\lib\\site-packages\\tensorflow\\python\\framework\\dtypes.py:517: FutureWarning: Passing (type, 1) or '1type' as a synonym of type is deprecated; in a future version of numpy, it will be understood as (type, (1,)) / '(1,)type'.\n",
      "  _np_quint8 = np.dtype([(\"quint8\", np.uint8, 1)])\n",
      "c:\\users\\evgen\\appdata\\local\\programs\\python\\python37\\lib\\site-packages\\tensorflow\\python\\framework\\dtypes.py:518: FutureWarning: Passing (type, 1) or '1type' as a synonym of type is deprecated; in a future version of numpy, it will be understood as (type, (1,)) / '(1,)type'.\n",
      "  _np_qint16 = np.dtype([(\"qint16\", np.int16, 1)])\n",
      "c:\\users\\evgen\\appdata\\local\\programs\\python\\python37\\lib\\site-packages\\tensorflow\\python\\framework\\dtypes.py:519: FutureWarning: Passing (type, 1) or '1type' as a synonym of type is deprecated; in a future version of numpy, it will be understood as (type, (1,)) / '(1,)type'.\n",
      "  _np_quint16 = np.dtype([(\"quint16\", np.uint16, 1)])\n",
      "c:\\users\\evgen\\appdata\\local\\programs\\python\\python37\\lib\\site-packages\\tensorflow\\python\\framework\\dtypes.py:520: FutureWarning: Passing (type, 1) or '1type' as a synonym of type is deprecated; in a future version of numpy, it will be understood as (type, (1,)) / '(1,)type'.\n",
      "  _np_qint32 = np.dtype([(\"qint32\", np.int32, 1)])\n",
      "c:\\users\\evgen\\appdata\\local\\programs\\python\\python37\\lib\\site-packages\\tensorflow\\python\\framework\\dtypes.py:525: FutureWarning: Passing (type, 1) or '1type' as a synonym of type is deprecated; in a future version of numpy, it will be understood as (type, (1,)) / '(1,)type'.\n",
      "  np_resource = np.dtype([(\"resource\", np.ubyte, 1)])\n",
      "c:\\users\\evgen\\appdata\\local\\programs\\python\\python37\\lib\\site-packages\\tensorboard\\compat\\tensorflow_stub\\dtypes.py:541: FutureWarning: Passing (type, 1) or '1type' as a synonym of type is deprecated; in a future version of numpy, it will be understood as (type, (1,)) / '(1,)type'.\n",
      "  _np_qint8 = np.dtype([(\"qint8\", np.int8, 1)])\n",
      "c:\\users\\evgen\\appdata\\local\\programs\\python\\python37\\lib\\site-packages\\tensorboard\\compat\\tensorflow_stub\\dtypes.py:542: FutureWarning: Passing (type, 1) or '1type' as a synonym of type is deprecated; in a future version of numpy, it will be understood as (type, (1,)) / '(1,)type'.\n",
      "  _np_quint8 = np.dtype([(\"quint8\", np.uint8, 1)])\n",
      "c:\\users\\evgen\\appdata\\local\\programs\\python\\python37\\lib\\site-packages\\tensorboard\\compat\\tensorflow_stub\\dtypes.py:543: FutureWarning: Passing (type, 1) or '1type' as a synonym of type is deprecated; in a future version of numpy, it will be understood as (type, (1,)) / '(1,)type'.\n",
      "  _np_qint16 = np.dtype([(\"qint16\", np.int16, 1)])\n",
      "c:\\users\\evgen\\appdata\\local\\programs\\python\\python37\\lib\\site-packages\\tensorboard\\compat\\tensorflow_stub\\dtypes.py:544: FutureWarning: Passing (type, 1) or '1type' as a synonym of type is deprecated; in a future version of numpy, it will be understood as (type, (1,)) / '(1,)type'.\n",
      "  _np_quint16 = np.dtype([(\"quint16\", np.uint16, 1)])\n",
      "c:\\users\\evgen\\appdata\\local\\programs\\python\\python37\\lib\\site-packages\\tensorboard\\compat\\tensorflow_stub\\dtypes.py:545: FutureWarning: Passing (type, 1) or '1type' as a synonym of type is deprecated; in a future version of numpy, it will be understood as (type, (1,)) / '(1,)type'.\n",
      "  _np_qint32 = np.dtype([(\"qint32\", np.int32, 1)])\n",
      "c:\\users\\evgen\\appdata\\local\\programs\\python\\python37\\lib\\site-packages\\tensorboard\\compat\\tensorflow_stub\\dtypes.py:550: FutureWarning: Passing (type, 1) or '1type' as a synonym of type is deprecated; in a future version of numpy, it will be understood as (type, (1,)) / '(1,)type'.\n",
      "  np_resource = np.dtype([(\"resource\", np.ubyte, 1)])\n"
     ]
    }
   ],
   "source": [
    "# Импортируем необходимые библиотеки\n",
    "import numpy as np\n",
    "import matplotlib.pyplot as plt\n",
    "from tensorflow.keras.datasets import mnist         # библиотека базы выборок Mnist\n",
    "from tensorflow import keras\n",
    "from tensorflow.keras.layers import Dense, Flatten, Reshape, Input\n",
    " \n",
    "\n",
    "# загружаем цифры из базы MNIST        \n",
    "(x_train, y_train), (x_test, y_test) = mnist.load_data()\n",
    " \n",
    "# стандартизация входных данных\n",
    "x_train = x_train / 255\n",
    "x_test = x_test / 255\n",
    " \n",
    "x_train = np.reshape(x_train, (len(x_train), 28, 28, 1))\n",
    "x_test  = np.reshape(x_test,  (len(x_test),  28, 28, 1))"
   ]
  },
  {
   "cell_type": "code",
   "execution_count": 2,
   "metadata": {},
   "outputs": [
    {
     "name": "stdout",
     "output_type": "stream",
     "text": [
      "WARNING:tensorflow:From c:\\users\\evgen\\appdata\\local\\programs\\python\\python37\\lib\\site-packages\\tensorflow\\python\\ops\\init_ops.py:1251: calling VarianceScaling.__init__ (from tensorflow.python.ops.init_ops) with dtype is deprecated and will be removed in a future version.\n",
      "Instructions for updating:\n",
      "Call initializer instance with the dtype argument instead of passing it to the constructor\n"
     ]
    }
   ],
   "source": [
    "\n",
    "# Опишем архитектуру нашего автоэнкодера:\n",
    "input_img = Input((28, 28, 1))\n",
    "x = Flatten()(input_img)\n",
    "x = Dense(128, activation='relu')(x)\n",
    "x = Dense(64, activation='relu')(x)\n",
    "encoded = Dense(49, activation='relu')(x)\n",
    " \n",
    "d = Dense(64, activation='relu')(encoded)\n",
    "d = Dense(28*28, activation='sigmoid')(d)\n",
    "decoded = Reshape((28, 28, 1))(d)\n",
    " \n",
    "autoencoder = keras.Model(input_img, decoded, name=\"autoencoder\")\n",
    "autoencoder.compile(optimizer='adam', loss='mean_squared_error')"
   ]
  },
  {
   "cell_type": "code",
   "execution_count": 3,
   "metadata": {},
   "outputs": [
    {
     "name": "stdout",
     "output_type": "stream",
     "text": [
      "Epoch 1/20\n",
      "60000/60000 [==============================] - 3s 48us/sample - loss: 0.0335\n",
      "Epoch 2/20\n",
      "60000/60000 [==============================] - 3s 43us/sample - loss: 0.0165\n",
      "Epoch 3/20\n",
      "60000/60000 [==============================] - 3s 43us/sample - loss: 0.0135\n",
      "Epoch 4/20\n",
      "60000/60000 [==============================] - 3s 44us/sample - loss: 0.0119\n",
      "Epoch 5/20\n",
      "60000/60000 [==============================] - 3s 44us/sample - loss: 0.0108\n",
      "Epoch 6/20\n",
      "60000/60000 [==============================] - 3s 48us/sample - loss: 0.0101\n",
      "Epoch 7/20\n",
      "60000/60000 [==============================] - 3s 54us/sample - loss: 0.0095\n",
      "Epoch 8/20\n",
      "60000/60000 [==============================] - 3s 45us/sample - loss: 0.0090\n",
      "Epoch 9/20\n",
      "60000/60000 [==============================] - 3s 44us/sample - loss: 0.0087\n",
      "Epoch 10/20\n",
      "60000/60000 [==============================] - 3s 43us/sample - loss: 0.0084\n",
      "Epoch 11/20\n",
      "60000/60000 [==============================] - 3s 48us/sample - loss: 0.0081\n",
      "Epoch 12/20\n",
      "60000/60000 [==============================] - 3s 43us/sample - loss: 0.0079\n",
      "Epoch 13/20\n",
      "60000/60000 [==============================] - 3s 45us/sample - loss: 0.0078\n",
      "Epoch 14/20\n",
      "60000/60000 [==============================] - 3s 44us/sample - loss: 0.0076\n",
      "Epoch 15/20\n",
      "60000/60000 [==============================] - 3s 43us/sample - loss: 0.0075\n",
      "Epoch 16/20\n",
      "60000/60000 [==============================] - 2s 41us/sample - loss: 0.0073\n",
      "Epoch 17/20\n",
      "60000/60000 [==============================] - 3s 45us/sample - loss: 0.0071\n",
      "Epoch 18/20\n",
      "60000/60000 [==============================] - 3s 49us/sample - loss: 0.0070\n",
      "Epoch 19/20\n",
      "60000/60000 [==============================] - 3s 45us/sample - loss: 0.0069\n",
      "Epoch 20/20\n",
      "60000/60000 [==============================] - 3s 45us/sample - loss: 0.0068\n"
     ]
    },
    {
     "data": {
      "text/plain": [
       "<tensorflow.python.keras.callbacks.History at 0x15584708>"
      ]
     },
     "execution_count": 3,
     "metadata": {},
     "output_type": "execute_result"
    }
   ],
   "source": [
    "# Обучим Автоэнкодер\n",
    "\n",
    "batch_size = 49\n",
    "\n",
    "autoencoder.fit(x_train, \n",
    "                x_train, \n",
    "                epochs=20,\n",
    "                batch_size=batch_size,\n",
    "                shuffle=True)\n"
   ]
  },
  {
   "cell_type": "code",
   "execution_count": 4,
   "metadata": {},
   "outputs": [
    {
     "data": {
      "image/png": "[encoded data removed]",
      "text/plain": [
       "<Figure size 1440x288 with 20 Axes>"
      ]
     },
     "metadata": {
      "needs_background": "light"
     },
     "output_type": "display_data"
    }
   ],
   "source": [
    "# Отобразим первые 10 изображений \n",
    "# и результат их декодирования нашим обученным автоэнкодером:\n",
    "\n",
    "n = 10\n",
    " \n",
    "imgs = x_test[:n]\n",
    "decoded_imgs = autoencoder.predict(x_test[:n], batch_size=n)\n",
    " \n",
    "plt.figure(figsize=(2*n, 2*2))\n",
    "for i in range(n):\n",
    "  ax = plt.subplot(2, n, i+1)\n",
    "  plt.imshow(imgs[i].squeeze(), cmap='gray')\n",
    "  ax.get_xaxis().set_visible(False)\n",
    "  ax.get_yaxis().set_visible(False)\n",
    " \n",
    "  ax2 = plt.subplot(2, n, i+n+1)\n",
    "  plt.imshow(decoded_imgs[i].squeeze(), cmap='gray')\n",
    "  ax2.get_xaxis().set_visible(False)\n",
    "  ax2.get_yaxis().set_visible(False)"
   ]
  },
  {
   "cell_type": "code",
   "execution_count": 5,
   "metadata": {},
   "outputs": [],
   "source": [
    "\n",
    "#  Функция отображения цифр, которые получаются гомотопией \n",
    "# между двумя изображениями пятерок по прямой\n",
    "\n",
    "def plot_digits(*images):\n",
    "    images = [x.squeeze() for x in images]\n",
    "    n = min([x.shape[0] for x in images])\n",
    " \n",
    "    plt.figure(figsize=(2*n, 2*len(images)))\n",
    "    for j in range(n):\n",
    "        for i in range(len(images)):\n",
    "            ax = plt.subplot(len(images), n, i*n + j + 1)\n",
    "            plt.imshow(images[i][j])\n",
    "            plt.gray()\n",
    "            ax.get_xaxis().set_visible(False)\n",
    "            ax.get_yaxis().set_visible(False)\n",
    " \n",
    "    plt.show()\n",
    " \n",
    "def plot_homotopy(frm, to, n=10, autoencoder=None):\n",
    "    z = np.zeros(([n] + list(frm.shape)))\n",
    "    for i, t in enumerate(np.linspace(0., 1., n)):\n",
    "        z[i] = frm * (1-t) + to * t  # Гомотопия по прямой\n",
    "    if autoencoder: \n",
    "        plot_digits(autoencoder.predict(z, batch_size=n))\n",
    "    else:\n",
    "        plot_digits(z)"
   ]
  },
  {
   "cell_type": "code",
   "execution_count": 6,
   "metadata": {},
   "outputs": [
    {
     "data": {
      "image/png": "[encoded data removed]",
      "text/plain": [
       "<Figure size 1440x144 with 10 Axes>"
      ]
     },
     "metadata": {
      "needs_background": "light"
     },
     "output_type": "display_data"
    },
    {
     "data": {
      "image/png": "[encoded data removed]",
      "text/plain": [
       "<Figure size 1440x144 with 10 Axes>"
      ]
     },
     "metadata": {
      "needs_background": "light"
     },
     "output_type": "display_data"
    }
   ],
   "source": [
    "# Проверка работы\n",
    "frm, to = x_test[y_test == 5][1:3]\n",
    "plot_homotopy(frm, to)\n",
    "plot_homotopy(frm, to, autoencoder=autoencoder)"
   ]
  },
  {
   "cell_type": "markdown",
   "metadata": {},
   "source": [
    "Детектирование аномалий с помощью автоенкодеров на Python"
   ]
  },
  {
   "cell_type": "markdown",
   "metadata": {},
   "source": [
    "Детектирование аномалий — интересная задача машинного обучения. Не существует какого-то определенного способа ее решения, так как каждый набор данных имеет свои особенности. Но в то же время есть несколько подходов, которые помогают добиться успеха. Я хочу рассказать про один из таких подходов — автоенкодеры.\n",
    "\n"
   ]
  },
  {
   "cell_type": "code",
   "execution_count": 7,
   "metadata": {},
   "outputs": [],
   "source": [
    "# импортируем библиотеки\n",
    "import os\n",
    "import numpy as np\n",
    "from sklearn.model_selection import train_test_split\n",
    "import matplotlib.pyplot as plt\n",
    "from matplotlib.colors import Normalize"
   ]
  },
  {
   "cell_type": "code",
   "execution_count": 8,
   "metadata": {},
   "outputs": [],
   "source": [
    "# функция для генерации нормального распределения с заданными параметрами\n",
    "def gen_normal_distribution(mu, sigma, size, range=(0, 1), max_val=1):\n",
    "  bins = np.linspace(*range, size)\n",
    "  result = 1 / (sigma * np.sqrt(2*np.pi)) * np.exp(-(bins - mu)**2 / (2*sigma**2))\n",
    "\n",
    "  cur_max_val = result.max()\n",
    "  k = max_val / cur_max_val\n",
    "\n",
    "  result *= k\n",
    "\n",
    "  return result"
   ]
  },
  {
   "cell_type": "code",
   "execution_count": 9,
   "metadata": {},
   "outputs": [
    {
     "name": "stdout",
     "output_type": "stream",
     "text": [
      "1.0\n"
     ]
    },
    {
     "data": {
      "text/plain": [
       "[<matplotlib.lines.Line2D at 0x180cd448>]"
      ]
     },
     "execution_count": 9,
     "metadata": {},
     "output_type": "execute_result"
    },
    {
     "data": {
      "image/png": "[encoded data removed]",
      "text/plain": [
       "<Figure size 432x288 with 1 Axes>"
      ]
     },
     "metadata": {
      "needs_background": "light"
     },
     "output_type": "display_data"
    }
   ],
   "source": [
    "# Создадим выборку нормального распределения с μ = 0.3 и σ = 0.05:\n",
    "dist = gen_normal_distribution(0.3, 0.05, 256, max_val=1)\n",
    "print(dist.max())\n",
    "\n",
    "plt.plot(np.linspace(0, 1, 256), dist)"
   ]
  },
  {
   "cell_type": "code",
   "execution_count": 10,
   "metadata": {},
   "outputs": [],
   "source": [
    "# Зададим параметры Датасета\n",
    "in_distribution_size = 2000\n",
    "out_distribution_size = 200\n",
    "val_size = 100\n",
    "sample_size = 256\n",
    "\n",
    "# для воспроизводимости используется seed\n",
    "random_generator = np.random.RandomState(seed=42) "
   ]
  },
  {
   "cell_type": "code",
   "execution_count": 11,
   "metadata": {},
   "outputs": [],
   "source": [
    "# Функции для генерирования примеров — нормальных и аномальных. \n",
    "# Нормальными будут считаться распределения с одним максимумом, аномальными — с двумя:\n",
    "\n",
    "def generate_in_samples(size, sample_size):\n",
    "  global random_generator\n",
    "\n",
    "  in_samples = np.zeros((size, sample_size))\n",
    "\n",
    "  in_mus = random_generator.uniform(0.1, 0.9, size)\n",
    "  in_sigmas = random_generator.uniform(0.05, 0.5, size)\n",
    "\n",
    "  for i in range(size):\n",
    "    in_samples[i] = gen_normal_distribution(in_mus[i], in_sigmas[i], \n",
    "                                            sample_size, max_val=1)\n",
    "\n",
    "  return in_samples\n",
    "\n",
    "def generate_out_samples(size, sample_size):\n",
    "  global random_generator\n",
    "\n",
    "  # создаем распределение с одним пиком\n",
    "  out_samples = generate_in_samples(size, sample_size)\n",
    "\n",
    "  # накладываем поверх него еще один небольшой максимум\n",
    "  out_additional_mus = random_generator.uniform(0.1, 0.9, size)\n",
    "  out_additional_sigmas = random_generator.uniform(0.01, 0.05, size)\n",
    "\n",
    "  for i in range(size):\n",
    "    anomaly = gen_normal_distribution(out_additional_mus[i], \n",
    "                                      out_additional_sigmas[i], \n",
    "                                      sample_size, max_val=0.12)\n",
    "    out_samples[i] += anomaly\n",
    "\n",
    "  return out_samples"
   ]
  },
  {
   "cell_type": "code",
   "execution_count": 12,
   "metadata": {
    "scrolled": true
   },
   "outputs": [
    {
     "data": {
      "text/plain": [
       "[<matplotlib.lines.Line2D at 0x16dda608>]"
      ]
     },
     "execution_count": 12,
     "metadata": {},
     "output_type": "execute_result"
    },
    {
     "data": {
      "image/png": "[encoded data removed]",
      "text/plain": [
       "<Figure size 432x288 with 1 Axes>"
      ]
     },
     "metadata": {
      "needs_background": "light"
     },
     "output_type": "display_data"
    }
   ],
   "source": [
    "# нормальный пример:\n",
    "in_samples = generate_in_samples(in_distribution_size, sample_size)\n",
    "plt.plot(np.linspace(0, 1, sample_size), in_samples[42])"
   ]
  },
  {
   "cell_type": "code",
   "execution_count": 13,
   "metadata": {},
   "outputs": [
    {
     "data": {
      "text/plain": [
       "[<matplotlib.lines.Line2D at 0x16d99e08>]"
      ]
     },
     "execution_count": 13,
     "metadata": {},
     "output_type": "execute_result"
    },
    {
     "data": {
      "image/png": "[encoded data removed]",
      "text/plain": [
       "<Figure size 432x288 with 1 Axes>"
      ]
     },
     "metadata": {
      "needs_background": "light"
     },
     "output_type": "display_data"
    }
   ],
   "source": [
    "# аномальный тип:\n",
    "out_samples = generate_out_samples(out_distribution_size, sample_size)\n",
    "plt.plot(np.linspace(0, 1, sample_size), out_samples[42])"
   ]
  },
  {
   "cell_type": "code",
   "execution_count": 14,
   "metadata": {},
   "outputs": [],
   "source": [
    "# Создадим массивы с признаками и метками:\n",
    "x = np.concatenate((in_samples, out_samples))\n",
    "# нормальные примеры имеют метку 0, аномальные -- 1\n",
    "y = np.concatenate((np.zeros(in_distribution_size), np.ones(out_distribution_size)))\n",
    "\n",
    "# разделение на обучающую/тренировочную выборки\n",
    "x_train, x_test, y_train, y_test = train_test_split(x, y, \n",
    "                                                    test_size=0.2, \n",
    "                                                    shuffle=True, \n",
    "                                                    random_state=42)"
   ]
  },
  {
   "cell_type": "code",
   "execution_count": 15,
   "metadata": {},
   "outputs": [],
   "source": [
    "# проверим несколько алгоритмов детектирования аномалий из Sklearn: \n",
    "# одноклассовый SVM и изолирующий лес.\n",
    "\n",
    "# функции для оценки качества моделей\n",
    "from sklearn.metrics import classification_report\n",
    "from sklearn.metrics import f1_score\n",
    "\n"
   ]
  },
  {
   "cell_type": "code",
   "execution_count": 16,
   "metadata": {},
   "outputs": [],
   "source": [
    "# One class SVM\n",
    "from sklearn.svm import OneClassSVM"
   ]
  },
  {
   "cell_type": "code",
   "execution_count": 17,
   "metadata": {},
   "outputs": [
    {
     "data": {
      "text/plain": [
       "OneClassSVM(nu=0.09090909090909091)"
      ]
     },
     "execution_count": 17,
     "metadata": {},
     "output_type": "execute_result"
    }
   ],
   "source": [
    "# OneClassSVM позволяет задать параметр nu — долю аномальных объектов в выборке.\n",
    "\n",
    "out_dist_part = out_distribution_size / (out_distribution_size + in_distribution_size)\n",
    "svm = OneClassSVM(nu=out_dist_part)\n",
    "svm.fit(x_train, y_train)\n"
   ]
  },
  {
   "cell_type": "code",
   "execution_count": 18,
   "metadata": {},
   "outputs": [],
   "source": [
    "# Делаем предсказания на тестовом наборе:\n",
    "svm_prediction = svm.predict(x_test)\n",
    "svm_prediction[svm_prediction == 1] = 0\n",
    "svm_prediction[svm_prediction == -1] = 1"
   ]
  },
  {
   "cell_type": "code",
   "execution_count": 19,
   "metadata": {},
   "outputs": [
    {
     "name": "stdout",
     "output_type": "stream",
     "text": [
      "              precision    recall  f1-score   support\n",
      "\n",
      "         0.0       0.93      0.92      0.93       400\n",
      "         1.0       0.29      0.33      0.31        40\n",
      "\n",
      "    accuracy                           0.87       440\n",
      "   macro avg       0.61      0.62      0.62       440\n",
      "weighted avg       0.87      0.87      0.87       440\n",
      "\n"
     ]
    }
   ],
   "source": [
    "# classification_report, функция которая позволяет оценить  важные для Anomaly detection метрики,\n",
    "# как precision и recall, причем для каждого класса:\n",
    "print(classification_report(y_test, svm_prediction))\n"
   ]
  },
  {
   "cell_type": "code",
   "execution_count": 20,
   "metadata": {},
   "outputs": [],
   "source": [
    "# Подргузим Isolation forest\n",
    "from sklearn.ensemble import IsolationForest"
   ]
  },
  {
   "cell_type": "code",
   "execution_count": 21,
   "metadata": {},
   "outputs": [
    {
     "data": {
      "text/plain": [
       "IsolationForest(contamination=0.09090909090909091, max_features=100, n_jobs=-1)"
      ]
     },
     "execution_count": 21,
     "metadata": {},
     "output_type": "execute_result"
    }
   ],
   "source": [
    "\n",
    "# зададим параметр, отвечающий за долю аномальных объектов в выборке\n",
    "out_dist_part = out_distribution_size / (out_distribution_size + in_distribution_size)\n",
    "\n",
    "iso_forest = IsolationForest(n_estimators=100, contamination=out_dist_part, max_features=100, n_jobs=-1)\n",
    "iso_forest.fit(x_train)"
   ]
  },
  {
   "cell_type": "code",
   "execution_count": 22,
   "metadata": {},
   "outputs": [
    {
     "name": "stdout",
     "output_type": "stream",
     "text": [
      "              precision    recall  f1-score   support\n",
      "\n",
      "         0.0       0.91      0.89      0.90       400\n",
      "         1.0       0.08      0.10      0.09        40\n",
      "\n",
      "    accuracy                           0.81       440\n",
      "   macro avg       0.49      0.49      0.49       440\n",
      "weighted avg       0.83      0.81      0.82       440\n",
      "\n"
     ]
    }
   ],
   "source": [
    "# выведем Classification report\n",
    "iso_forest_prediction = iso_forest.predict(x_test)\n",
    "iso_forest_prediction[iso_forest_prediction == 1] = 0\n",
    "iso_forest_prediction[iso_forest_prediction == -1] = 1\n",
    "\n",
    "print(classification_report(y_test, iso_forest_prediction))"
   ]
  },
  {
   "cell_type": "code",
   "execution_count": 23,
   "metadata": {},
   "outputs": [
    {
     "data": {
      "text/plain": [
       "RandomForestClassifier(max_features=100, n_jobs=-1)"
      ]
     },
     "execution_count": 23,
     "metadata": {},
     "output_type": "execute_result"
    }
   ],
   "source": [
    "# Попробуем найти аномалии случайным лесом\n",
    "from sklearn.ensemble import RandomForestClassifier\n",
    "\n",
    "random_forest = RandomForestClassifier(n_estimators=100, max_features=100, n_jobs=-1)\n",
    "random_forest.fit(x_train, y_train)"
   ]
  },
  {
   "cell_type": "code",
   "execution_count": 24,
   "metadata": {},
   "outputs": [
    {
     "name": "stdout",
     "output_type": "stream",
     "text": [
      "              precision    recall  f1-score   support\n",
      "\n",
      "         0.0       0.93      1.00      0.97       400\n",
      "         1.0       1.00      0.28      0.43        40\n",
      "\n",
      "    accuracy                           0.93       440\n",
      "   macro avg       0.97      0.64      0.70       440\n",
      "weighted avg       0.94      0.93      0.92       440\n",
      "\n"
     ]
    }
   ],
   "source": [
    "random_forest_prediction = random_forest.predict(x_test)\n",
    "print(classification_report(y_test, random_forest_prediction))"
   ]
  },
  {
   "cell_type": "markdown",
   "metadata": {},
   "source": [
    "\n",
    "Autoencoder\n",
    "\n",
    "В общем, случилась довольно обыденная для детектирования аномалий штука: ничего не сработало. Переходим к автокодировщикам.\n",
    "\n",
    "\n",
    "Принцип работы автоенкодера состоит в том, что модель пытается сначала \"сжать\" данные, а потом восстановить их. Она состоит из 2 частей: Encoder'а и Decoder'а, которые занимаются сжатием и расшифровкой соответственно."
   ]
  },
  {
   "cell_type": "markdown",
   "metadata": {},
   "source": [
    "Чтобы создать эффект \"сжатия\" данных, надо уменьшить скрытые слои, заставив их обрабатывать большее количество информации меньшим количеством нейронов.\n",
    "\n",
    "Как этот эффект поможет нам? Теория информации говорит о том, что чем более вероятно событие, тем меньшее количество информации потребуется, чтобы описать это событие. Вспомним, что у нас всего лишь 9% аномалий и 91% нормальных объектов. Тогда для хранения информации об обычных объектах потребуется меньше информации, чем для запоминания аномальных. Но тогда, если мы подберем правильные параметры нейронной сети, то она сможет запоминать и восстанавливать только обычные объекты: на аномальные ей просто не будет хватать обобщающей способности.\n",
    "\n",
    "Поэтому восстановленные моделью данные будут значительно отличаться от исходных."
   ]
  }
 ],
 "metadata": {
  "kernelspec": {
   "display_name": "Python 3",
   "language": "python",
   "name": "python3"
  },
  "language_info": {
   "codemirror_mode": {
    "name": "ipython",
    "version": 3
   },
   "file_extension": ".py",
   "mimetype": "text/x-python",
   "name": "python",
   "nbconvert_exporter": "python",
   "pygments_lexer": "ipython3",
   "version": "3.7.9"
  }
 },
 "nbformat": 4,
 "nbformat_minor": 4
}
