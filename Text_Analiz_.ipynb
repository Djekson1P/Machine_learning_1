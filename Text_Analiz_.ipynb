{
 "cells": [
  {
   "cell_type": "markdown",
   "metadata": {},
   "source": [
    "Анализ текста с помощью Python."
   ]
  },
  {
   "cell_type": "code",
   "execution_count": 1,
   "metadata": {},
   "outputs": [],
   "source": [
    "# Импорт библиотек\n",
    "\n",
    "import numpy as np\n",
    "import pandas as pd\n",
    "import os\n",
    "import matplotlib.pyplot as plt\n",
    "%matplotlib inline\n",
    "import tensorflow as tf\n",
    "from tensorflow.keras import utils\n",
    "from tensorflow.keras.models import Sequential\n",
    "from tensorflow.keras.layers import Dense, Dropout, SpatialDropout1D, BatchNormalization, Embedding, Flatten, Activation, SimpleRNN\n",
    "from tensorflow.python.keras.optimizers import Adam, RMSprop\n",
    "from tensorflow.keras.preprocessing.text import Tokenizer, text_to_word_sequence\n",
    "from sklearn.model_selection import train_test_split"
   ]
  },
  {
   "cell_type": "code",
   "execution_count": 2,
   "metadata": {},
   "outputs": [],
   "source": [
    "def replaceMultiple(mainString, toBeReplaces, newString):\n",
    "    # Iterate over the strings to be replaced\n",
    "    for elem in toBeReplaces:\n",
    "        # Check if string is in the main string\n",
    "        if elem in mainString:\n",
    "            # Replace the string\n",
    "            mainString = mainString.replace(elem, newString)\n",
    "    \n",
    "    return  mainString"
   ]
  },
  {
   "cell_type": "code",
   "execution_count": 3,
   "metadata": {},
   "outputs": [
    {
     "name": "stdout",
     "output_type": "stream",
     "text": [
      "Тестовая   запись   верна\n"
     ]
    }
   ],
   "source": [
    "txt = replaceMultiple(\"Тестовая - запись — верна\", ['\\n\\r', '\\n', '\\r', '-', '—'] , \" \")\n",
    "print(txt) # Тестовая   запись   верна"
   ]
  },
  {
   "cell_type": "code",
   "execution_count": 4,
   "metadata": {},
   "outputs": [],
   "source": [
    "def readText(fileName): #функция принимает имя файла\n",
    "  #f = open(fileName, 'r')        #открываем файла в режиме чтения\n",
    "  #f = open('C:\\Тест\\Text_Analiz\\Text_Analiz\\\\' + fileName, 'r', encoding='utf-8')       #открываем файла в режиме чтения\n",
    "  f = open('C:\\Тест\\Text_Analiz\\Text_Analiz\\\\' + fileName, 'r')       #открываем файла в режиме чтения  \n",
    "  text = f.read()                #читаем текст\n",
    "  #text = replaceMultiple(text, ['\\n\\r', '\\n', '\\r', '\\\\xa0'] , \" \") #заменяем переносы и спецсимволы разделителей на пробелы\n",
    "  return text                    #функция возвращает текст файла"
   ]
  },
  {
   "cell_type": "code",
   "execution_count": 5,
   "metadata": {
    "scrolled": false
   },
   "outputs": [
    {
     "name": "stdout",
     "output_type": "stream",
     "text": [
      "Длина обучающего текста Глуховский \t 262030 \tПроверочного: \t 251065\n",
      "Длина обучающего текста Горький \t 36530 \tПроверочного: \t 80766\n",
      "Длина обучающего текста Довлатов \t 40757 \tПроверочного: \t 62340\n",
      "Длина обучающего текста Платонов \t 2935 \tПроверочного: \t 65954\n",
      "Длина обучающего текста Тургенев \t 79307 \tПроверочного: \t 102084\n",
      "Длина обучающего текста Шекспир \t 11307 \tПроверочного: \t 73186\n"
     ]
    }
   ],
   "source": [
    "#Подгружаем тексты для обучения\n",
    "Text_train = []\n",
    "Text_train.append(readText('Глуховский_Будущее_Train.txt'))\n",
    "# Text_train.append(readText('Глуховский_Сумерки_Train.txt'))\n",
    "Text_train.append(readText('Горький_Мещане_Train.txt'))\n",
    "# Text_train.append(readText('Горький_на_дне_Train.txt'))\n",
    "Text_train.append(readText('Довлатов_Заповедник_Train.txt'))\n",
    "#Text_test.append(readText('Довлатов_Зона_Train.txt'))\n",
    "Text_train.append(readText('Платонов_Дерево_Родины_Train.txt'))\n",
    "# Text_train.append(readText('Платонов_Чевенгур_Train.txt'))\n",
    "Text_train.append(readText('Тургенев_Муму_Train.txt'))\n",
    "# Text_train.append(readText('Тургенев_Первая_Любовь_Train.txt')) \n",
    "Text_train.append(readText('Шекспир_Венера_и_Адонис_Train.txt'))\n",
    "# Text_train.append(readText('Шекспир_Ромео_и_Джулльета_Train.txt')) \n",
    "className = [\"Глуховский\", \"Горький\", \"Довлатов\", \"Платонов\", \"Тургенев\", \"Шекспир\"]\n",
    "nClasses = len(className)\n",
    "#Загружаем тестовые тексты\n",
    "Text_test = []\n",
    "Text_test.append(readText('Глуховский_Метро_2033_Test.txt'))\n",
    "Text_test.append(readText('Горький_Васса_Железнова_Test.txt'))\n",
    "Text_test.append(readText('Довлатов_Ремесло_Test.txt')) \n",
    "Text_test.append(readText('Платонов_Котлован_Test.txt'))\n",
    "Text_test.append(readText('Тургенев_Дневник_Лишнего_Человека_Test.txt'))\n",
    "Text_test.append(readText('Шекспир_Лукреция_Test.txt'))\n",
    "#Смотрим размеры загруженных выборок\n",
    "# print(Text_test[2])\n",
    "for i in range(len(Text_train)):\n",
    "  print(\"Длина обучающего текста\", className[i], \"\\t\", len(Text_train[i]), \"\\tПроверочного:\", \"\\t\", len(Text_test[i]))\n",
    "# Для загрузки текстов можно использовать более компактный код используя ‘(‘ в качестве токена для определения нужных файлов:"
   ]
  },
  {
   "cell_type": "code",
   "execution_count": 6,
   "metadata": {},
   "outputs": [],
   "source": [
    "writers_text=[]\n",
    "for files in os.listdir():\n",
    "  if (files.startswith('(')):\n",
    "    with open(files, 'r') as f:\n",
    "      text = f.read()\n",
    "      print(\"Файл:\", files, 'длина:', len(text))\n",
    "      writers_text.append(text)"
   ]
  },
  {
   "cell_type": "code",
   "execution_count": 7,
   "metadata": {},
   "outputs": [
    {
     "name": "stdout",
     "output_type": "stream",
     "text": [
      "[('и', 1), ('в', 2), ('не', 3), ('я', 4), ('на', 5), ('\\xa0', 6), ('что', 7), ('с', 8), ('он', 9), ('как', 10), ('то', 11), ('а', 12), ('его', 13), ('за', 14), ('меня', 15), ('к', 16), ('у', 17), ('из', 18), ('мне', 19), ('но', 20)]\n"
     ]
    }
   ],
   "source": [
    "Count_max_Words = 20000 #макс. кол-во слов/индексов для обучения текстов\n",
    "tokenizer = Tokenizer(num_words=Count_max_Words, \n",
    "                      filters='!–\"—#$%&amp;()*+,-./:;&lt;=>?@[\\\\]^_`{|}~\\t\\n\\r«»',   # Фильтры из регулярных выражений\n",
    "                      lower=True, \n",
    "                      split=' ', \n",
    "                      char_level=False\n",
    "                     )\n",
    "tokenizer.fit_on_texts(Text_train) # передаем тексты для получения токенов отсортированных по частоте повторяемости \n",
    "                                   # в количестве Count_max_Words\n",
    "items = list(tokenizer.word_index.items()) #берем индексы слов для просмотра\n",
    "print(items[:20])"
   ]
  },
  {
   "cell_type": "code",
   "execution_count": 8,
   "metadata": {
    "scrolled": true
   },
   "outputs": [
    {
     "name": "stdout",
     "output_type": "stream",
     "text": [
      "204\n",
      "5\n",
      "31\n"
     ]
    }
   ],
   "source": [
    "print(tokenizer.word_index['руку']) #позиция/индекс слова в массиве токенов\n",
    "print(tokenizer.word_docs['руку']) #в скольки источниках встретилось слово\n",
    "print(tokenizer.word_counts['руку']) #количество повторений слов"
   ]
  },
  {
   "cell_type": "code",
   "execution_count": 9,
   "metadata": {},
   "outputs": [
    {
     "name": "stdout",
     "output_type": "stream",
     "text": [
      "[('будущее', 10), ('дмитрий', 2), ('алексеевич', 2), ('глуховский', 3), ('бестселлеры', 1), ('дмитрия', 2), ('глуховского', 2), ('на', 1094), ('что', 813), ('ты', 214), ('готов', 14), ('ради', 14), ('вечной', 3), ('жизни', 51), ('уже', 100), ('при', 34), ('нашей', 16), ('будут', 11), ('сделаны', 4), ('открытия', 3)]\n",
      "Будущее\n",
      "Дмитрий Алексеевич Глуховский\n",
      "\n",
      "\n",
      "Бестселлеры Дмитрия Глуховского\n",
      "НА ЧТО ТЫ ГОТОВ РАДИ ВЕЧНОЙ \n"
     ]
    }
   ],
   "source": [
    "dist = list(tokenizer.word_counts.items())\n",
    "print(dist[:20])\n",
    "print(Text_train[0][:100])\n",
    "\n",
    "\n",
    "# [('лиса', 35), ('на', 27709), ('рассвете', 65), ('коралио', 91), ('нежился', 6), ('в', 45508), ('полуденном', 2), ('зное', 3), ('как', 13748), ('томная', 2)]\n",
    "# «Лиса-на-рассвете»   Коралио нежился в полуденном зное, как томная красавица в сурово хранимом гарем"
   ]
  },
  {
   "cell_type": "code",
   "execution_count": 10,
   "metadata": {},
   "outputs": [
    {
     "name": "stdout",
     "output_type": "stream",
     "text": [
      "14151\n",
      "['бестселлеры', 'позволят', 'здоровыми', 'бессмертием', 'завести', 'роман', 'культового', 'метро', '2033', 'и\\xa0триллера', 'сумерки', 'иностранных', 'миллионными', 'тиражами', 'экранизируются', 'голливуде', 'захватит', 'аст', 'защищены', 'никакая']\n"
     ]
    },
    {
     "data": {
      "text/plain": [
       "['хранимом',\n",
       " 'брильянтиком',\n",
       " 'вкрапленным',\n",
       " 'нависая',\n",
       " 'тюремщик',\n",
       " 'сейбах',\n",
       " 'склоняли',\n",
       " 'кордебалет',\n",
       " 'прима',\n",
       " 'busca']"
      ]
     },
     "execution_count": 10,
     "metadata": {},
     "output_type": "execute_result"
    }
   ],
   "source": [
    "Thres_count = 2 #кол-во раз меньше которого слово нужно исключить из списка  \n",
    "low_count_words = [w for w,c in tokenizer.word_counts.items() if c < Thres_count] #создаем список слов встречаюихся менее Thres_count \n",
    "print(len(low_count_words))\n",
    "print(low_count_words[:20])\n",
    "for w in low_count_words: #удаляем такие слова из исходного списка\n",
    "    del tokenizer.word_index[w]\n",
    "    del tokenizer.word_docs[w]\n",
    "    del tokenizer.word_counts[w]\n",
    "63955\n",
    "['хранимом', 'брильянтиком', 'вкрапленным', 'нависая', 'тюремщик', 'сейбах', 'склоняли', 'кордебалет', 'прима', 'busca']"
   ]
  },
  {
   "cell_type": "code",
   "execution_count": 11,
   "metadata": {
    "scrolled": true
   },
   "outputs": [
    {
     "name": "stdout",
     "output_type": "stream",
     "text": [
      "Исходный текст:\t\t Мещане\n",
      "Максим Алексеевич Горький\n",
      "\n",
      "\n",
      "«Пьеса \"Мещане\" – не просто дебют писателя в драмату\n",
      "Он же в виде последовательности индексов:\t [2963, 5259, 3249, 2964, 2963, 6, 3, 76, 877, 2, 6, 3759, 916, 2498, 5134, 16, 8, 5259, 2964, 2963]\n"
     ]
    }
   ],
   "source": [
    "Word_train_Index = tokenizer.texts_to_sequences(Text_train) #обучающие тесты в индексы\n",
    "Word_test_Index = tokenizer.texts_to_sequences(Text_test)  #проверочные тесты в индексы\n",
    "print(\"Исходный текст:\\t\\t\", Text_train[1] [:87])\n",
    "print(\"Он же в виде последовательности индексов:\\t\", Word_train_Index[1][:20])"
   ]
  },
  {
   "cell_type": "code",
   "execution_count": 12,
   "metadata": {},
   "outputs": [
    {
     "name": "stdout",
     "output_type": "stream",
     "text": [
      "Глуховский \t 262030 символов, 32221  слов\n",
      "Горький \t 36530 символов, 4627  слов\n",
      "Довлатов \t 40757 символов, 4097  слов\n",
      "Платонов \t 2935 символов, 453  слов\n",
      "Тургенев \t 79307 символов, 10087  слов\n",
      "Шекспир \t 11307 символов, 1014  слов\n",
      "\r\n",
      "В сумме:\t 432866 символов, 52499 слов\n",
      "\n",
      "Статистика по обучающим текстам:\n",
      "Глуховский \t 251065  символов,  12030  слов\n",
      "Горький \t 80766  символов,  12982  слов\n",
      "Довлатов \t 62340  символов,  4986  слов\n",
      "Платонов \t 65954  символов,  6463  слов\n",
      "Тургенев \t 102084  символов,  11069  слов\n",
      "Шекспир \t 73186  символов,  6388  слов\n",
      "\r\n",
      "В сумме:\t 635395 символов, 53918 слов\n"
     ]
    }
   ],
   "source": [
    "symbs = 0;\n",
    "words = 0;\n",
    "for i in range(len(Text_train)):\n",
    "  print(className[i], \"\\t\", len(Text_train[i]), \"символов,\", len(Word_train_Index[i]), \" слов\")\n",
    "  symbs += len(Text_train[i])\n",
    "  words += len(Word_train_Index[i])\n",
    " \n",
    "print(\"\\r\\nВ сумме:\\t\", symbs, \"символов,\", words, \"слов\")\n",
    "print()\n",
    "print(\"Статистика по обучающим текстам:\")\n",
    "symbs = 0;\n",
    "words = 0;\n",
    "for i in range(len(Text_test)):\n",
    "  print(className[i], \"\\t\", len(Text_test[i]), \" символов, \", len(Word_test_Index[i]), \" слов\")\n",
    "  symbs += len(Text_test[i])\n",
    "  words += len(Word_test_Index[i])\n",
    "  \n",
    "print(\"\\r\\nВ сумме:\\t\", symbs, \"символов,\", words, \"слов\")"
   ]
  },
  {
   "cell_type": "code",
   "execution_count": 13,
   "metadata": {},
   "outputs": [
    {
     "name": "stdout",
     "output_type": "stream",
     "text": [
      "Длина: 23 \r\n",
      "\n",
      "Входной текст: [0, 1, 2, 3, 4, 5, 6, 7, 8, 9, 10, 11, 12, 13, 14, 15, 16, 17, 18, 19, 20, 21, 22] \r\n",
      "\n",
      "index + xLen= 10\n",
      "wordsLen= 23\n",
      "23\n",
      "[0, 1, 2, 3, 4, 5, 6, 7, 8, 9]\n",
      "[3, 4, 5, 6, 7, 8, 9, 10, 11, 12]\n",
      "[6, 7, 8, 9, 10, 11, 12, 13, 14, 15]\n",
      "[9, 10, 11, 12, 13, 14, 15, 16, 17, 18]\n",
      "[12, 13, 14, 15, 16, 17, 18, 19, 20, 21]\n",
      "Общий размер: 5 x 10 = 50\n"
     ]
    }
   ],
   "source": [
    "###########################\n",
    "# Формирование обучающей выборки по листу индексов слов\n",
    "# (разделение на короткие векторы)\n",
    "##########################\n",
    "def getSetFromIndexes(wordIndexes, xLen, shift):\n",
    "  xSample = []\n",
    "  wordsLen = len(wordIndexes)\n",
    "  index = 0\n",
    "  print('index + xLen=', index + xLen )\n",
    "  print('wordsLen=', wordsLen)\n",
    "  print(len(wordIndexes))\n",
    "  \n",
    "  #Идём по всей длине вектора индексов\n",
    "  #\"Выбираем\" блоки текст длины xLen и смещаемся вперёд на shift\n",
    "  while (index + xLen <= wordsLen):\n",
    "#     print(232323)\n",
    "    xSample.append(wordIndexes[index:index+xLen])\n",
    "    index += shift\n",
    "    \n",
    "  return xSample\n",
    "#Тестируем работу функции\n",
    "arr = [x for x in range(23)]\n",
    "print(\"Длина:\", len(arr), \"\\r\\n\")\n",
    "print(\"Входной текст:\", arr, \"\\r\\n\")\n",
    "indexes = getSetFromIndexes(arr, 10, 3)\n",
    "for i in range(len(indexes)):\n",
    "  print(indexes[i])\n",
    "print(\"Общий размер:\", len(indexes), \"x\", len(indexes[0]), '=', len(indexes[0]) * len(indexes))  \n"
   ]
  },
  {
   "cell_type": "code",
   "execution_count": 14,
   "metadata": {},
   "outputs": [
    {
     "name": "stdout",
     "output_type": "stream",
     "text": [
      "32221\n",
      "(32221, 5259)\n",
      "[612, 3248, 3249, 2135, 3250, 3251, 5, 7, 28, 434]\n",
      "[[0. 0. 0. ... 0. 0. 0.]\n",
      " [0. 0. 0. ... 0. 0. 0.]\n",
      " [0. 0. 0. ... 0. 0. 0.]\n",
      " ...\n",
      " [0. 0. 0. ... 0. 0. 0.]\n",
      " [0. 0. 0. ... 0. 0. 0.]\n",
      " [0. 0. 0. ... 0. 0. 0.]]\n"
     ]
    }
   ],
   "source": [
    "arr = tf.keras.utils.to_categorical(Word_train_Index[0])\n",
    "print(len(Word_train_Index[0]))\n",
    "print(arr.shape)\n",
    "print(Word_train_Index[0][:10])\n",
    "print(arr[:20])"
   ]
  },
  {
   "cell_type": "code",
   "execution_count": 15,
   "metadata": {},
   "outputs": [],
   "source": [
    "def createSetsMultiClasses(wordIndexes, xLen, step):\n",
    "  #Для каждого из классов создаём обучающую/проверочную выборку из индексов\n",
    "  #print(1)\n",
    "  nClasses = len(wordIndexes) #задаем количество классов выборки\n",
    "  xSamples = [] #здесь будет список размером \"суммарное кол-во окон во всех текстах*длину окна(например 15779*1000)\"\n",
    "  ySamples = [] #здесь будет список размером \"суммарное кол-во окон во всех текстах*вектор длиной по количеству классов\" \n",
    "  for t, wI in enumerate(wordIndexes):  \n",
    "    tmp = getSetFromIndexes(wI, xLen, step) #получаем список индексов, разбитый на \"кол-во окон * длину окна\" \n",
    "    xSamples += tmp\n",
    "    ySamples += [tf.keras.utils.to_categorical(t, nClasses).tolist()] * len(tmp)\n",
    "  #print(xSamples)\n",
    "    \n",
    "  return (np.array(xSamples), np.array(ySamples))    "
   ]
  },
  {
   "cell_type": "code",
   "execution_count": 16,
   "metadata": {},
   "outputs": [
    {
     "name": "stdout",
     "output_type": "stream",
     "text": [
      "index + xLen= 10\n",
      "wordsLen= 23\n",
      "23\n",
      "index + xLen= 10\n",
      "wordsLen= 0\n",
      "0\n",
      "(array([[ 0,  1,  2,  3,  4,  5,  6,  7,  8,  9],\n",
      "       [ 3,  4,  5,  6,  7,  8,  9, 10, 11, 12],\n",
      "       [ 6,  7,  8,  9, 10, 11, 12, 13, 14, 15],\n",
      "       [ 9, 10, 11, 12, 13, 14, 15, 16, 17, 18],\n",
      "       [12, 13, 14, 15, 16, 17, 18, 19, 20, 21]]), array([[1.],\n",
      "       [1.],\n",
      "       [1.],\n",
      "       [1.],\n",
      "       [1.]]))\n",
      "(array([], dtype=float64), array([], dtype=float64))\n"
     ]
    }
   ],
   "source": [
    "texts_X = []\n",
    "texts_Y = []\n",
    "texts_X.append([x for x in range(23,)]) #Тестовый текст 1\n",
    "texts_Y.append([x for x in range(100, 23)]) #Тестовый текст 2\n",
    "# print(texts)\n",
    "xTrain  = createSetsMultiClasses(texts_X, 10, 3) \n",
    "yTrain = createSetsMultiClasses(texts_Y, 10, 3) \n",
    "print(xTrain)\n",
    "print(yTrain)"
   ]
  },
  {
   "cell_type": "code",
   "execution_count": 17,
   "metadata": {},
   "outputs": [],
   "source": [
    "#Задаём базовые параметры\n",
    "xLen = 7000 # Длина отрезка текста, по которой анализируем, в словах\n",
    "step = 100 # Шаг разбиения исходного текста на обучающие вектора\n"
   ]
  },
  {
   "cell_type": "code",
   "execution_count": 18,
   "metadata": {
    "scrolled": true
   },
   "outputs": [
    {
     "name": "stdout",
     "output_type": "stream",
     "text": [
      "index + xLen= 10\n",
      "wordsLen= 23\n",
      "23\n",
      "index + xLen= 10\n",
      "wordsLen= 23\n",
      "23\n",
      "[[  0   1   2   3   4   5   6   7   8   9]\n",
      " [  3   4   5   6   7   8   9  10  11  12]\n",
      " [  6   7   8   9  10  11  12  13  14  15]\n",
      " [  9  10  11  12  13  14  15  16  17  18]\n",
      " [ 12  13  14  15  16  17  18  19  20  21]\n",
      " [100 101 102 103 104 105 106 107 108 109]\n",
      " [103 104 105 106 107 108 109 110 111 112]\n",
      " [106 107 108 109 110 111 112 113 114 115]\n",
      " [109 110 111 112 113 114 115 116 117 118]\n",
      " [112 113 114 115 116 117 118 119 120 121]]\n",
      "[[1. 0.]\n",
      " [1. 0.]\n",
      " [1. 0.]\n",
      " [1. 0.]\n",
      " [1. 0.]\n",
      " [0. 1.]\n",
      " [0. 1.]\n",
      " [0. 1.]\n",
      " [0. 1.]\n",
      " [0. 1.]]\n"
     ]
    }
   ],
   "source": [
    "texts = []\n",
    "texts.append([x for x in range(23)]) #Тестовый текст 1\n",
    "texts.append([x for x in range(100, 123)]) #Тестовый текст 2\n",
    "xTrain, yTrain  = createSetsMultiClasses(texts, 10, 3) \n",
    "print(xTrain)\n",
    "print(yTrain)"
   ]
  },
  {
   "cell_type": "code",
   "execution_count": 19,
   "metadata": {},
   "outputs": [
    {
     "name": "stdout",
     "output_type": "stream",
     "text": [
      "index + xLen= 2000\n",
      "wordsLen= 32221\n",
      "32221\n",
      "index + xLen= 2000\n",
      "wordsLen= 4627\n",
      "4627\n",
      "index + xLen= 2000\n",
      "wordsLen= 4097\n",
      "4097\n",
      "index + xLen= 2000\n",
      "wordsLen= 453\n",
      "453\n",
      "index + xLen= 2000\n",
      "wordsLen= 10087\n",
      "10087\n",
      "index + xLen= 2000\n",
      "wordsLen= 1014\n",
      "1014\n",
      "index + xLen= 2000\n",
      "wordsLen= 12030\n",
      "12030\n",
      "index + xLen= 2000\n",
      "wordsLen= 12982\n",
      "12982\n",
      "index + xLen= 2000\n",
      "wordsLen= 4986\n",
      "4986\n",
      "index + xLen= 2000\n",
      "wordsLen= 6463\n",
      "6463\n",
      "index + xLen= 2000\n",
      "wordsLen= 11069\n",
      "11069\n",
      "index + xLen= 2000\n",
      "wordsLen= 6388\n",
      "6388\n",
      "(432, 2000)\n",
      "(432, 6)\n",
      "(421, 2000)\n",
      "(421, 6)\n"
     ]
    }
   ],
   "source": [
    "#Задаём базовые параметры\n",
    "xLen = 2000 #Длина отрезка текста в результирующемвекторе в словах // было 7 000\n",
    "shift= 100 #Смещение окна для разбиения исходного текста на обучающие вектора\n",
    "xTrain, yTrain = createSetsMultiClasses(Word_train_Index, xLen, shift) #Формируем обучающую выборку\n",
    "xTest, yTest = createSetsMultiClasses(Word_test_Index, xLen, shift)    #Формируем тестовую выборку\n",
    "print(xTrain.shape)\n",
    "print(yTrain.shape)\n",
    "print(xTest.shape)\n",
    "print(yTest.shape)"
   ]
  },
  {
   "cell_type": "code",
   "execution_count": 20,
   "metadata": {
    "scrolled": true
   },
   "outputs": [
    {
     "name": "stdout",
     "output_type": "stream",
     "text": [
      "(432, 20000)\n",
      "[0. 1. 1. 1. 0. 1. 0. 1. 1. 1. 1. 1. 1. 0. 1. 1. 1. 1. 1. 1.]\n"
     ]
    }
   ],
   "source": [
    "xTrain01 = tokenizer.sequences_to_matrix(xTrain.tolist()) #Конвертируем xTrain в список перед передачей методу\n",
    "xTest01 = tokenizer.sequences_to_matrix(xTest.tolist()) #Конвертируем xTest в список перед передачей методу\n",
    "print(xTrain01.shape)       #Размер обучающей выборки, сформированной по Bag of Words\n",
    "print(xTrain01[0][100:120]) #фрагмент набора слов в виде Bag of Words"
   ]
  },
  {
   "cell_type": "code",
   "execution_count": 21,
   "metadata": {
    "scrolled": true
   },
   "outputs": [
    {
     "name": "stdout",
     "output_type": "stream",
     "text": [
      "Epoch 1/20\n",
      "4/4 [==============================] - 0s 88ms/step - loss: 1.5061 - accuracy: 0.4514 - val_loss: 1.6828 - val_accuracy: 0.4822\n",
      "Epoch 2/20\n",
      "4/4 [==============================] - 0s 35ms/step - loss: 1.2422 - accuracy: 0.7292 - val_loss: 1.6432 - val_accuracy: 0.4751\n",
      "Epoch 3/20\n",
      "4/4 [==============================] - 0s 38ms/step - loss: 1.2063 - accuracy: 0.7407 - val_loss: 1.6284 - val_accuracy: 0.4656\n",
      "Epoch 4/20\n",
      "4/4 [==============================] - 0s 43ms/step - loss: 1.1893 - accuracy: 0.7384 - val_loss: 1.6230 - val_accuracy: 0.4513\n",
      "Epoch 5/20\n",
      "4/4 [==============================] - 0s 39ms/step - loss: 1.1684 - accuracy: 0.7616 - val_loss: 1.6254 - val_accuracy: 0.3800\n",
      "Epoch 6/20\n",
      "4/4 [==============================] - ETA: 0s - loss: 1.1524 - accuracy: 0.75 - 0s 37ms/step - loss: 1.1548 - accuracy: 0.7407 - val_loss: 1.6313 - val_accuracy: 0.3135\n",
      "Epoch 7/20\n",
      "4/4 [==============================] - 0s 44ms/step - loss: 1.1349 - accuracy: 0.7222 - val_loss: 1.6337 - val_accuracy: 0.2945\n",
      "Epoch 8/20\n",
      "4/4 [==============================] - 0s 40ms/step - loss: 1.1225 - accuracy: 0.7153 - val_loss: 1.6365 - val_accuracy: 0.2803\n",
      "Epoch 9/20\n",
      "4/4 [==============================] - 0s 42ms/step - loss: 1.1052 - accuracy: 0.7454 - val_loss: 1.6388 - val_accuracy: 0.2803\n",
      "Epoch 10/20\n",
      "4/4 [==============================] - 0s 47ms/step - loss: 1.0922 - accuracy: 0.7315 - val_loss: 1.6383 - val_accuracy: 0.2922\n",
      "Epoch 11/20\n",
      "4/4 [==============================] - 0s 39ms/step - loss: 1.0792 - accuracy: 0.7315 - val_loss: 1.6308 - val_accuracy: 0.3112\n",
      "Epoch 12/20\n",
      "4/4 [==============================] - 0s 41ms/step - loss: 1.0642 - accuracy: 0.7477 - val_loss: 1.6195 - val_accuracy: 0.3610\n",
      "Epoch 13/20\n",
      "4/4 [==============================] - 0s 39ms/step - loss: 1.0497 - accuracy: 0.7384 - val_loss: 1.6124 - val_accuracy: 0.4228\n",
      "Epoch 14/20\n",
      "4/4 [==============================] - 0s 41ms/step - loss: 1.0379 - accuracy: 0.7199 - val_loss: 1.6064 - val_accuracy: 0.5083\n",
      "Epoch 15/20\n",
      "4/4 [==============================] - 0s 41ms/step - loss: 1.0316 - accuracy: 0.7384 - val_loss: 1.6080 - val_accuracy: 0.4703\n",
      "Epoch 16/20\n",
      "4/4 [==============================] - 0s 39ms/step - loss: 1.0131 - accuracy: 0.7454 - val_loss: 1.6152 - val_accuracy: 0.4418\n",
      "Epoch 17/20\n",
      "4/4 [==============================] - 0s 47ms/step - loss: 1.0080 - accuracy: 0.7407 - val_loss: 1.6209 - val_accuracy: 0.4347\n",
      "Epoch 18/20\n",
      "4/4 [==============================] - 0s 39ms/step - loss: 0.9906 - accuracy: 0.7269 - val_loss: 1.6196 - val_accuracy: 0.4608\n",
      "Epoch 19/20\n",
      "4/4 [==============================] - 0s 44ms/step - loss: 0.9680 - accuracy: 0.7338 - val_loss: 1.6124 - val_accuracy: 0.4846\n",
      "Epoch 20/20\n",
      "4/4 [==============================] - 0s 36ms/step - loss: 0.9558 - accuracy: 0.7454 - val_loss: 1.6034 - val_accuracy: 0.5582\n"
     ]
    },
    {
     "data": {
      "image/png": "[encoded data removed]",
      "text/plain": [
       "<Figure size 432x288 with 1 Axes>"
      ]
     },
     "metadata": {
      "needs_background": "light"
     },
     "output_type": "display_data"
    }
   ],
   "source": [
    "#Создаём полносвязную сеть (FeedForward Neural Network)\n",
    "model01 = Sequential()\n",
    "model01.add(BatchNormalization())\n",
    "model01.add(Dense(30, input_dim=Count_max_Words, activation=\"relu\"))\n",
    "model01.add(Dropout(0.3))\n",
    "model01.add(BatchNormalization())\n",
    "model01.add(Dense(len(Text_train), activation='sigmoid'))\n",
    "model01.compile(optimizer='adam', \n",
    "              loss='categorical_crossentropy', \n",
    "              metrics=['accuracy'])\n",
    "#Обучаем сеть на выборке, сформированной по bag of words - xTrain01\n",
    "history = model01.fit(xTrain01, \n",
    "                      yTrain, \n",
    "                      epochs=20,\n",
    "                      batch_size=128,\n",
    "                      validation_data=(xTest01, yTest))\n",
    "plt.plot(history.history['accuracy'], \n",
    "         label='Доля верных ответов на обучающем наборе')\n",
    "plt.plot(history.history['val_accuracy'], \n",
    "         label='Доля верных ответов на проверочном наборе')\n",
    "plt.xlabel('Эпоха обучения')\n",
    "plt.ylabel('Доля верных ответов')\n",
    "plt.legend()\n",
    "plt.show()"
   ]
  },
  {
   "cell_type": "code",
   "execution_count": 22,
   "metadata": {},
   "outputs": [
    {
     "name": "stdout",
     "output_type": "stream",
     "text": [
      "test= 65954\n",
      "Source text: Ремесло\n",
      "Сергей Довлатов\n",
      "\n",
      "\n",
      "Сергей Довлатов – один из наиболее популярных и читаемых русских писателей\n",
      "Indexes: [3034, 2070, 3034, 2070, 71, 18, 1, 3035, 465, 744]\n",
      "4986\n",
      "index + xLen= 2000\n",
      "wordsLen= 4986\n",
      "4986\n",
      "Number of text blocks of xLen: 30\n",
      "sr= 4986\n",
      "srcTextBOW= [[0. 1. 1. ... 0. 0. 0.]\n",
      " [0. 1. 1. ... 0. 0. 0.]\n",
      " [0. 1. 1. ... 0. 0. 0.]\n",
      " ...\n",
      " [0. 1. 1. ... 0. 0. 0.]\n",
      " [0. 1. 1. ... 0. 0. 0.]\n",
      " [0. 1. 1. ... 0. 0. 0.]]\n",
      "(30, 6)\n",
      "[[0.5585561  0.41207552 0.5922466  0.46486017 0.38847813 0.3382236 ]\n",
      " [0.56921536 0.42410547 0.5624513  0.46433374 0.38153756 0.32043633]]\n",
      "[2 0 0 0 0 0 0 0 0 0 0 0 0 0 0 0 0 0 0 0 0 0 0 0 0 0 2 2 2 2]\n"
     ]
    }
   ],
   "source": [
    "def prepareTextForRecognition(Text_test, xLen, shift): #функция принимает последовательность индексов, размер окна, смещение окна\n",
    "  Word_test_Index = tokenizer.texts_to_sequences([Text_test]) \n",
    "  print(\"Source text:\",Text_test[:100])\n",
    "  print(\"Indexes:\",Word_test_Index[0][:10])\n",
    "  print(len(Word_test_Index[0]))\n",
    "  sample = getSetFromIndexes(Word_test_Index[0], xLen, shift)\n",
    "  print(\"Number of text blocks of xLen:\", len(sample))\n",
    "  xTest = tokenizer.sequences_to_matrix(sample)\n",
    "  print('sr=', len(Word_test_Index[0]))\n",
    " \n",
    "  return np.array(xTest)\n",
    "\n",
    "print('test=', len(Text_test[3]))\n",
    "\n",
    "\n",
    "srcTextBOW = prepareTextForRecognition(Text_test[2], xLen, shift)\n",
    "#Получаем результаты распознавания класса по блокам слов длины xLen\n",
    "\n",
    "print('srcTextBOW=', srcTextBOW)\n",
    "\n",
    "currPred = model01.predict(srcTextBOW)\n",
    "print(currPred.shape)\n",
    "print(currPred[:2])\n",
    "#Определяем номер распознанного класса для каждого блока слов длины xLen\n",
    "currOut = np.argmax(currPred, axis=1)\n",
    "print(currOut)"
   ]
  },
  {
   "cell_type": "code",
   "execution_count": 23,
   "metadata": {},
   "outputs": [
    {
     "name": "stdout",
     "output_type": "stream",
     "text": [
      "[4 0 2]\n",
      "Source text: Котлован\n",
      "Андрей Платонович Платонов\n",
      "\n",
      "\n",
      "Андрей Платонов был подлинным сыном революции, принял ее сразу\n",
      "Indexes: [2094, 5636, 2094, 5636, 59, 4448, 1278, 24, 258, 1]\n",
      "6463\n",
      "index + xLen= 2000\n",
      "wordsLen= 6463\n",
      "6463\n",
      "Number of text blocks of xLen: 45\n",
      "sr= 6463\n",
      "(45, 6)\n",
      "[[0.55166847 0.37877154 0.43283242 0.44338608 0.4629925  0.28306946]\n",
      " [0.5633391  0.38504994 0.4349167  0.44747704 0.457863   0.28661147]]\n",
      "[0 0 0 0 0 0 0 0 0 0 0 0 0 0 0 0 0 0 0 0 0 0 0 0 0 0 0 0 0 0 0 0 0 0 0 0 0\n",
      " 0 0 0 0 0 0 0 0]\n"
     ]
    }
   ],
   "source": [
    "arr = np.array([[0.1, 0.3, 0.2, 0.6, 0.9],\n",
    "                [0.7, 0.3, 0.2, 0.6, 0.5],\n",
    "                [0.8, 0.3, 0.9, 0.6, 0.3]])\n",
    "print(np.argmax(arr, axis=1))\n",
    "\n",
    "srcTextBOW = prepareTextForRecognition(Text_test[3], xLen, shift)\n",
    "#Получаем результаты распознавания класса по блокам слов длины xLen\n",
    "\n",
    "\n",
    "\n",
    "currPred = model01.predict(srcTextBOW)\n",
    "print(currPred.shape)\n",
    "print(currPred[:2])\n",
    "#Определяем номер распознанного класса для каждого блока слов длины xLen\n",
    "currOut = np.argmax(currPred, axis=1)\n",
    "\n",
    "print(currOut)"
   ]
  },
  {
   "cell_type": "code",
   "execution_count": 24,
   "metadata": {},
   "outputs": [
    {
     "name": "stdout",
     "output_type": "stream",
     "text": [
      "[4 0 2]\n"
     ]
    }
   ],
   "source": [
    "arr = np.array([[0.1, 0.3, 0.2, 0.6, 0.9],\n",
    "                [0.7, 0.3, 0.2, 0.6, 0.5],\n",
    "                [0.8, 0.3, 0.9, 0.6, 0.3]])\n",
    "print(np.argmax(arr, axis=1))"
   ]
  },
  {
   "cell_type": "code",
   "execution_count": 25,
   "metadata": {},
   "outputs": [
    {
     "ename": "SyntaxError",
     "evalue": "invalid syntax (<ipython-input-25-d7b3ea71e856>, line 2)",
     "output_type": "error",
     "traceback": [
      "\u001b[1;36m  File \u001b[1;32m\"<ipython-input-25-d7b3ea71e856>\"\u001b[1;36m, line \u001b[1;32m2\u001b[0m\n\u001b[1;33m    : #Проходим по всем классам\u001b[0m\n\u001b[1;37m    ^\u001b[0m\n\u001b[1;31mSyntaxError\u001b[0m\u001b[1;31m:\u001b[0m invalid syntax\n"
     ]
    }
   ],
   "source": [
    "probability = [0]*nClasses\n",
    "#Проходим по всем классам\n",
    "for i in range(len(Text_test))\n",
    "  probability[i] = np.count_nonzero(currOut == i)/len(currOut)\n",
    "  recognizedClass = np.argmax(probability[i])\n",
    "  print(\"Текст написан:\", className[i], \"с вероятностью\", probability[recognizedClass])\n",
    "print( className)"
   ]
  }
 ],
 "metadata": {
  "kernelspec": {
   "display_name": "Python 3",
   "language": "python",
   "name": "python3"
  },
  "language_info": {
   "codemirror_mode": {
    "name": "ipython",
    "version": 3
   },
   "file_extension": ".py",
   "mimetype": "text/x-python",
   "name": "python",
   "nbconvert_exporter": "python",
   "pygments_lexer": "ipython3",
   "version": "3.7.9"
  }
 },
 "nbformat": 4,
 "nbformat_minor": 4
}
