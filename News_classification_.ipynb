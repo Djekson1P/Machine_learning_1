{
 "cells": [
  {
   "cell_type": "code",
   "execution_count": 1,
   "metadata": {},
   "outputs": [],
   "source": [
    "import tensorflow as tf\n",
    "import numpy as np\n"
   ]
  },
  {
   "cell_type": "code",
   "execution_count": 2,
   "metadata": {},
   "outputs": [],
   "source": [
    "(train_data, train_labels), (test_data, test_labels) =  tf.keras.datasets.reuters.load_data(\n",
    "    path='reuters.npz', num_words=10000,\n",
    ")"
   ]
  },
  {
   "cell_type": "code",
   "execution_count": 3,
   "metadata": {},
   "outputs": [
    {
     "name": "stdout",
     "output_type": "stream",
     "text": [
      "8982\n"
     ]
    }
   ],
   "source": [
    "# Количество элементов в обучающей выборке\n",
    "print(len(train_data))"
   ]
  },
  {
   "cell_type": "code",
   "execution_count": 4,
   "metadata": {},
   "outputs": [
    {
     "name": "stdout",
     "output_type": "stream",
     "text": [
      "2246\n"
     ]
    }
   ],
   "source": [
    "# Количество элементов в тестовой выборке\n",
    "print(len(test_data))"
   ]
  },
  {
   "cell_type": "code",
   "execution_count": 5,
   "metadata": {},
   "outputs": [],
   "source": [
    "# Декодирование новостей обратно в текст\n",
    "\n",
    "word_index = tf.keras.datasets.reuters.get_word_index(\n",
    "    path='reuters_word_index.json'\n",
    ")\n",
    "\n",
    "\n",
    "\n",
    "# word_index = train_data.get_word_index()\n",
    "reverse_word_index = dict([(value, key) for (key, value) in word_index.\n",
    "items()])\n",
    "decoded_newswire = ' '.join([reverse_word_index.get(i - 3, '?') for i in\n",
    "train_data[0]])"
   ]
  },
  {
   "cell_type": "code",
   "execution_count": 6,
   "metadata": {},
   "outputs": [],
   "source": [
    "#Кодирование данных: \n",
    "def vectorize_sequences(sequences, dimension=10000):\n",
    "     results = np.zeros((len(sequences), dimension))\n",
    "     for i, sequence in enumerate(sequences):\n",
    "         results[i, sequence] = 1.\n",
    "     return results\n",
    "\n",
    "x_train = vectorize_sequences(train_data) # Векторизованные обучающие данные\n",
    "x_test = vectorize_sequences(test_data) # Векторизованные контрольные данные\n",
    "\n"
   ]
  },
  {
   "cell_type": "code",
   "execution_count": 7,
   "metadata": {},
   "outputs": [],
   "source": [
    "# Функция one_hot кодирования\n",
    "def to_one_hot(labels, dimension=46):\n",
    "      results = np.zeros((len(labels), dimension))\n",
    "      for i, label in enumerate(labels):\n",
    "           results[i, label] = 1.\n",
    "      return results\n",
    "\n",
    "    \n",
    "one_hot_train_labels = to_one_hot(train_labels)   #\n",
    "one_hot_test_labels = to_one_hot(test_labels)     #"
   ]
  },
  {
   "cell_type": "code",
   "execution_count": 8,
   "metadata": {},
   "outputs": [
    {
     "name": "stdout",
     "output_type": "stream",
     "text": [
      "WARNING:tensorflow:From c:\\users\\evgen\\appdata\\local\\programs\\python\\python37\\lib\\site-packages\\tensorflow\\python\\ops\\init_ops.py:1251: calling VarianceScaling.__init__ (from tensorflow.python.ops.init_ops) with dtype is deprecated and will be removed in a future version.\n",
      "Instructions for updating:\n",
      "Call initializer instance with the dtype argument instead of passing it to the constructor\n"
     ]
    }
   ],
   "source": [
    "\n",
    "# Определение параметров модели\n",
    "\n",
    "model = tf.keras.models.Sequential()\n",
    "model.add(tf.keras.layers.Dense(64, activation='relu', input_shape=(10000,)))\n",
    "model.add(tf.keras.layers.Dense(64, activation='relu'))\n",
    "model.add(tf.keras.layers.Dense(46, activation='softmax'))\n",
    "\n",
    "\n",
    "#  Компиляция модели\n",
    "model.compile(optimizer='rmsprop',\n",
    "loss='categorical_crossentropy',\n",
    "metrics = [ \"acc\" ])\n"
   ]
  },
  {
   "cell_type": "code",
   "execution_count": 9,
   "metadata": {},
   "outputs": [],
   "source": [
    "# Разделение данных на проверочный и обучающий набор\n",
    "\n",
    "partial_x_train = x_train[1000:]\n",
    "partial_y_train = one_hot_train_labels[1000:]\n",
    "\n",
    "x_val = x_train[:1000]\n",
    "y_val = one_hot_train_labels[:1000]\n"
   ]
  },
  {
   "cell_type": "code",
   "execution_count": 10,
   "metadata": {},
   "outputs": [
    {
     "name": "stdout",
     "output_type": "stream",
     "text": [
      "Train on 7982 samples, validate on 1000 samples\n",
      "Epoch 1/20\n",
      "7982/7982 [==============================] - 1s 109us/sample - loss: 2.6007 - acc: 0.5148 - val_loss: 1.7566 - val_acc: 0.6430\n",
      "Epoch 2/20\n",
      "7982/7982 [==============================] - 1s 90us/sample - loss: 1.4378 - acc: 0.7042 - val_loss: 1.3027 - val_acc: 0.7240\n",
      "Epoch 3/20\n",
      "7982/7982 [==============================] - 1s 86us/sample - loss: 1.0582 - acc: 0.7769 - val_loss: 1.1224 - val_acc: 0.7660\n",
      "Epoch 4/20\n",
      "7982/7982 [==============================] - 1s 90us/sample - loss: 0.8345 - acc: 0.8262 - val_loss: 1.0346 - val_acc: 0.7690\n",
      "Epoch 5/20\n",
      "7982/7982 [==============================] - 1s 89us/sample - loss: 0.6670 - acc: 0.8614 - val_loss: 0.9504 - val_acc: 0.8050\n",
      "Epoch 6/20\n",
      "7982/7982 [==============================] - 1s 88us/sample - loss: 0.5352 - acc: 0.8882 - val_loss: 0.9203 - val_acc: 0.8120\n",
      "Epoch 7/20\n",
      "7982/7982 [==============================] - 1s 87us/sample - loss: 0.4346 - acc: 0.9087 - val_loss: 0.9115 - val_acc: 0.8010\n",
      "Epoch 8/20\n",
      "7982/7982 [==============================] - 1s 88us/sample - loss: 0.3549 - acc: 0.9272 - val_loss: 0.9158 - val_acc: 0.8060\n",
      "Epoch 9/20\n",
      "7982/7982 [==============================] - 1s 88us/sample - loss: 0.2917 - acc: 0.9382 - val_loss: 0.9165 - val_acc: 0.8070\n",
      "Epoch 10/20\n",
      "7982/7982 [==============================] - 1s 87us/sample - loss: 0.2480 - acc: 0.9430 - val_loss: 0.9185 - val_acc: 0.8160\n",
      "Epoch 11/20\n",
      "7982/7982 [==============================] - 1s 89us/sample - loss: 0.2167 - acc: 0.9479 - val_loss: 0.9139 - val_acc: 0.8190\n",
      "Epoch 12/20\n",
      "7982/7982 [==============================] - 1s 89us/sample - loss: 0.1847 - acc: 0.9526 - val_loss: 0.9370 - val_acc: 0.8150\n",
      "Epoch 13/20\n",
      "7982/7982 [==============================] - 1s 88us/sample - loss: 0.1672 - acc: 0.9538 - val_loss: 0.9587 - val_acc: 0.8120\n",
      "Epoch 14/20\n",
      "7982/7982 [==============================] - 1s 89us/sample - loss: 0.1531 - acc: 0.9541 - val_loss: 0.9934 - val_acc: 0.8070\n",
      "Epoch 15/20\n",
      "7982/7982 [==============================] - 1s 89us/sample - loss: 0.1443 - acc: 0.9554 - val_loss: 0.9995 - val_acc: 0.8100\n",
      "Epoch 16/20\n",
      "7982/7982 [==============================] - 1s 93us/sample - loss: 0.1347 - acc: 0.9550 - val_loss: 1.0504 - val_acc: 0.8100\n",
      "Epoch 17/20\n",
      "7982/7982 [==============================] - 1s 88us/sample - loss: 0.1269 - acc: 0.9548 - val_loss: 1.0655 - val_acc: 0.8130\n",
      "Epoch 18/20\n",
      "7982/7982 [==============================] - 1s 89us/sample - loss: 0.1252 - acc: 0.9559 - val_loss: 1.0765 - val_acc: 0.8060\n",
      "Epoch 19/20\n",
      "7982/7982 [==============================] - 1s 88us/sample - loss: 0.1157 - acc: 0.9567 - val_loss: 1.0453 - val_acc: 0.8130\n",
      "Epoch 20/20\n",
      "7982/7982 [==============================] - 1s 88us/sample - loss: 0.1154 - acc: 0.9579 - val_loss: 1.0721 - val_acc: 0.8060\n"
     ]
    }
   ],
   "source": [
    "\n",
    "# Обучение модели\n",
    "history = model.fit(partial_x_train,\n",
    "          partial_y_train,\n",
    "          epochs=20,\n",
    "          batch_size=512,\n",
    "          validation_data=(x_val, y_val)\n",
    "                   )\n"
   ]
  },
  {
   "cell_type": "code",
   "execution_count": 11,
   "metadata": {},
   "outputs": [
    {
     "data": {
      "image/png": "[encoded data removed]",
      "text/plain": [
       "<Figure size 432x288 with 1 Axes>"
      ]
     },
     "metadata": {
      "needs_background": "light"
     },
     "output_type": "display_data"
    }
   ],
   "source": [
    "# Построение графиков потерь на этапах обучения и проверки\n",
    "\n",
    "import matplotlib.pyplot as plt\n",
    "\n",
    "loss = history.history['loss']\n",
    "val_loss = history.history['val_loss']\n",
    "epochs = range(1, len(loss) + 1)\n",
    "plt.plot(epochs, loss,  label='Training loss')\n",
    "plt.plot(epochs, val_loss,  label='Validation loss')\n",
    "plt.title('Training and validation loss')\n",
    "plt.xlabel('Epochs')\n",
    "plt.ylabel('Loss')\n",
    "plt.legend()\n",
    "plt.show()"
   ]
  },
  {
   "cell_type": "code",
   "execution_count": 12,
   "metadata": {},
   "outputs": [
    {
     "data": {
      "image/png": "[encoded data removed]",
      "text/plain": [
       "<Figure size 432x288 with 1 Axes>"
      ]
     },
     "metadata": {
      "needs_background": "light"
     },
     "output_type": "display_data"
    }
   ],
   "source": [
    "# Построение графиков точности на этапах обучения и проверки\n",
    "plt.clf() # Очистить рисунок\n",
    "acc = history.history['acc']\n",
    "val_acc = history.history['val_acc']\n",
    "plt.plot(epochs, acc, 'bo', label='Training acc')\n",
    "plt.plot(epochs, val_acc, 'b', label='Validation acc')\n",
    "plt.title('Training and validation accuracy')\n",
    "plt.xlabel('Epochs')\n",
    "plt.ylabel('Accuracy')\n",
    "plt.legend()\n",
    "plt.show()"
   ]
  },
  {
   "cell_type": "markdown",
   "metadata": {},
   "source": [
    "Как можно заметить из графика переобучение сети наступает примерно на девятой эпохе девятой эпохе. \n",
    "Изменим некоторые параметры обучения  сети до девятой эпохи и затем оценим получившийся результат на контрольных данных."
   ]
  },
  {
   "cell_type": "code",
   "execution_count": 13,
   "metadata": {},
   "outputs": [
    {
     "name": "stdout",
     "output_type": "stream",
     "text": [
      "Train on 7982 samples, validate on 1000 samples\n",
      "Epoch 1/9\n",
      "7982/7982 [==============================] - 1s 103us/sample - loss: 2.7181 - acc: 0.5160 - val_loss: 1.7546 - val_acc: 0.6370\n",
      "Epoch 2/9\n",
      "7982/7982 [==============================] - 1s 88us/sample - loss: 1.4537 - acc: 0.6981 - val_loss: 1.3364 - val_acc: 0.7090\n",
      "Epoch 3/9\n",
      "7982/7982 [==============================] - 1s 88us/sample - loss: 1.0900 - acc: 0.7640 - val_loss: 1.1689 - val_acc: 0.7530\n",
      "Epoch 4/9\n",
      "7982/7982 [==============================] - 1s 88us/sample - loss: 0.8582 - acc: 0.8171 - val_loss: 1.0647 - val_acc: 0.7730\n",
      "Epoch 5/9\n",
      "7982/7982 [==============================] - 1s 92us/sample - loss: 0.6826 - acc: 0.8507 - val_loss: 0.9960 - val_acc: 0.7740\n",
      "Epoch 6/9\n",
      "7982/7982 [==============================] - 1s 87us/sample - loss: 0.5457 - acc: 0.8809 - val_loss: 0.9385 - val_acc: 0.7950\n",
      "Epoch 7/9\n",
      "7982/7982 [==============================] - 1s 87us/sample - loss: 0.4321 - acc: 0.9078 - val_loss: 0.9426 - val_acc: 0.8060\n",
      "Epoch 8/9\n",
      "7982/7982 [==============================] - 1s 93us/sample - loss: 0.3532 - acc: 0.9272 - val_loss: 0.9104 - val_acc: 0.8010\n",
      "Epoch 9/9\n",
      "7982/7982 [==============================] - 1s 88us/sample - loss: 0.2868 - acc: 0.9392 - val_loss: 0.9200 - val_acc: 0.8120\n"
     ]
    },
    {
     "data": {
      "text/plain": [
       "<tensorflow.python.keras.callbacks.History at 0x1bf76d88>"
      ]
     },
     "execution_count": 13,
     "metadata": {},
     "output_type": "execute_result"
    }
   ],
   "source": [
    "# Обучение новой модели с нуля\n",
    "model = tf.keras.models.Sequential()\n",
    "model.add(tf.keras.layers.Dense(64, activation='relu', input_shape=(10000,)))\n",
    "model.add(tf.keras.layers.Dense(64, activation='relu'))\n",
    "model.add(tf.keras.layers.Dense(46, activation='softmax'))\n",
    "model.compile(optimizer='rmsprop',\n",
    "              loss='categorical_crossentropy',\n",
    "              metrics=['accuracy']\n",
    "             )\n",
    "# Обучаем модель:\n",
    "model.fit(partial_x_train,\n",
    "              partial_y_train,\n",
    "              epochs=9,\n",
    "              batch_size=512,\n",
    "              validation_data=(x_val, y_val)\n",
    "         )\n",
    "    \n",
    "    \n"
   ]
  },
  {
   "cell_type": "code",
   "execution_count": 14,
   "metadata": {},
   "outputs": [
    {
     "name": "stdout",
     "output_type": "stream",
     "text": [
      "2246/2246 [==============================] - 0s 221us/sample - loss: 0.9915 - acc: 0.7841\n",
      "results =  [0.991481366586388, 0.78406054]\n"
     ]
    }
   ],
   "source": [
    "results = model.evaluate(x_test, one_hot_test_labels)\n",
    "print('results = ', results)"
   ]
  },
  {
   "cell_type": "code",
   "execution_count": 15,
   "metadata": {},
   "outputs": [
    {
     "data": {
      "text/plain": [
       "0.1856634016028495"
      ]
     },
     "execution_count": 15,
     "metadata": {},
     "output_type": "execute_result"
    }
   ],
   "source": [
    "import copy\n",
    "test_labels_copy = copy.copy(test_labels)\n",
    "np.random.shuffle(test_labels_copy)\n",
    "hits_array = np.array(test_labels) == np.array(test_labels_copy)\n",
    "float(np.sum(hits_array)) / len(test_labels)"
   ]
  },
  {
   "cell_type": "markdown",
   "metadata": {},
   "source": [
    "Это решение достигло точности  приблизительно в 80 %. Со сбалансированной задачей бинарной\n",
    "классификации точность чисто случайного классификатора составила бы 50 %.\n",
    "Однако в данном случае она близка к 19 %, то есть результат получился весьма\n",
    "неплохим, по крайней мере в сравнении со случайным р."
   ]
  },
  {
   "cell_type": "code",
   "execution_count": 16,
   "metadata": {},
   "outputs": [],
   "source": [
    "# Получение предсказаний для новых данных\n",
    "predictions = model.predict(x_test)\n"
   ]
  },
  {
   "cell_type": "code",
   "execution_count": 17,
   "metadata": {},
   "outputs": [
    {
     "data": {
      "text/plain": [
       "(46,)"
      ]
     },
     "execution_count": 17,
     "metadata": {},
     "output_type": "execute_result"
    }
   ],
   "source": [
    "# Размерность одного элемента вектора составляет:\n",
    "predictions[0].shape"
   ]
  },
  {
   "cell_type": "code",
   "execution_count": 18,
   "metadata": {},
   "outputs": [
    {
     "data": {
      "text/plain": [
       "0.9999998"
      ]
     },
     "execution_count": 18,
     "metadata": {},
     "output_type": "execute_result"
    }
   ],
   "source": [
    "# Сумма элементов нулевого вектора равна:\n",
    "np.sum(predictions[0])"
   ]
  },
  {
   "cell_type": "code",
   "execution_count": 19,
   "metadata": {},
   "outputs": [
    {
     "data": {
      "text/plain": [
       "3"
      ]
     },
     "execution_count": 19,
     "metadata": {},
     "output_type": "execute_result"
    }
   ],
   "source": [
    "# Максимальное значение, это значение предсказанное с наибольшей вероятностью:\n",
    "np.argmax(predictions[0])"
   ]
  },
  {
   "cell_type": "code",
   "execution_count": 20,
   "metadata": {},
   "outputs": [],
   "source": [
    "# метки также можно было бы преобразовать в тензор целых чисел:\n",
    "y_train = np.array(train_labels)\n",
    "y_test = np.array(test_labels)"
   ]
  },
  {
   "cell_type": "code",
   "execution_count": 21,
   "metadata": {},
   "outputs": [],
   "source": [
    "# С целочисленными метками следует использовать функцию sparse_categorical_crossentropy:\n",
    "model.compile(optimizer='rmsprop',\n",
    "loss='sparse_categorical_crossentropy',\n",
    "metrics=['acc'])"
   ]
  },
  {
   "cell_type": "code",
   "execution_count": 22,
   "metadata": {},
   "outputs": [
    {
     "name": "stdout",
     "output_type": "stream",
     "text": [
      "Train on 7982 samples, validate on 1000 samples\n",
      "Epoch 1/20\n",
      "7982/7982 [==============================] - 1s 112us/sample - loss: 3.2256 - acc: 0.2575 - val_loss: 2.5434 - val_acc: 0.5320\n",
      "Epoch 2/20\n",
      "7982/7982 [==============================] - 1s 97us/sample - loss: 1.9435 - acc: 0.6154 - val_loss: 1.6143 - val_acc: 0.6130\n",
      "Epoch 3/20\n",
      "7982/7982 [==============================] - 1s 98us/sample - loss: 1.3814 - acc: 0.6557 - val_loss: 1.4064 - val_acc: 0.6410\n",
      "Epoch 4/20\n",
      "7982/7982 [==============================] - 1s 97us/sample - loss: 1.1918 - acc: 0.6942 - val_loss: 1.3300 - val_acc: 0.6750\n",
      "Epoch 5/20\n",
      "7982/7982 [==============================] - 1s 97us/sample - loss: 1.0752 - acc: 0.7258 - val_loss: 1.2946 - val_acc: 0.6920\n",
      "Epoch 6/20\n",
      "7982/7982 [==============================] - 1s 97us/sample - loss: 0.9860 - acc: 0.7467 - val_loss: 1.2717 - val_acc: 0.7010\n",
      "Epoch 7/20\n",
      "7982/7982 [==============================] - 1s 98us/sample - loss: 0.9134 - acc: 0.7662 - val_loss: 1.2807 - val_acc: 0.7080\n",
      "Epoch 8/20\n",
      "7982/7982 [==============================] - 1s 98us/sample - loss: 0.8519 - acc: 0.7810 - val_loss: 1.2863 - val_acc: 0.7050\n",
      "Epoch 9/20\n",
      "7982/7982 [==============================] - 1s 97us/sample - loss: 0.7991 - acc: 0.7909 - val_loss: 1.2940 - val_acc: 0.7080\n",
      "Epoch 10/20\n",
      "7982/7982 [==============================] - 1s 97us/sample - loss: 0.7525 - acc: 0.7967 - val_loss: 1.3080 - val_acc: 0.7110\n",
      "Epoch 11/20\n",
      "7982/7982 [==============================] - 1s 98us/sample - loss: 0.7087 - acc: 0.8046 - val_loss: 1.3396 - val_acc: 0.7050\n",
      "Epoch 12/20\n",
      "7982/7982 [==============================] - 1s 98us/sample - loss: 0.6714 - acc: 0.8093 - val_loss: 1.3620 - val_acc: 0.7090\n",
      "Epoch 13/20\n",
      "7982/7982 [==============================] - 1s 98us/sample - loss: 0.6362 - acc: 0.8160 - val_loss: 1.3658 - val_acc: 0.7060\n",
      "Epoch 14/20\n",
      "7982/7982 [==============================] - 1s 98us/sample - loss: 0.6032 - acc: 0.8222 - val_loss: 1.4056 - val_acc: 0.7050\n",
      "Epoch 15/20\n",
      "7982/7982 [==============================] - 1s 98us/sample - loss: 0.5744 - acc: 0.8279 - val_loss: 1.4559 - val_acc: 0.7060\n",
      "Epoch 16/20\n",
      "7982/7982 [==============================] - 1s 98us/sample - loss: 0.5475 - acc: 0.8380 - val_loss: 1.4763 - val_acc: 0.7060\n",
      "Epoch 17/20\n",
      "7982/7982 [==============================] - 1s 100us/sample - loss: 0.5221 - acc: 0.8443 - val_loss: 1.5296 - val_acc: 0.7060\n",
      "Epoch 18/20\n",
      "7982/7982 [==============================] - 1s 96us/sample - loss: 0.4992 - acc: 0.8492 - val_loss: 1.5757 - val_acc: 0.7060\n",
      "Epoch 19/20\n",
      "7982/7982 [==============================] - 1s 98us/sample - loss: 0.4775 - acc: 0.8532 - val_loss: 1.5953 - val_acc: 0.7080\n",
      "Epoch 20/20\n",
      "7982/7982 [==============================] - 1s 98us/sample - loss: 0.4599 - acc: 0.8621 - val_loss: 1.6943 - val_acc: 0.7010\n"
     ]
    },
    {
     "data": {
      "text/plain": [
       "<tensorflow.python.keras.callbacks.History at 0x55671f08>"
      ]
     },
     "execution_count": 22,
     "metadata": {},
     "output_type": "execute_result"
    }
   ],
   "source": [
    "# Модель с узким местом для информации\n",
    "model = tf.keras.models.Sequential()\n",
    "model.add(tf.keras.layers.Dense(32, activation='relu', input_shape=(10000,)))\n",
    "model.add(tf.keras.layers.Dense(4, activation='relu'))\n",
    "model.add(tf.keras.layers.Dense(46, activation='softmax'))\n",
    "\n",
    "\n",
    "# Компилируем модель\n",
    "model.compile(optimizer='rmsprop',\n",
    "             loss='categorical_crossentropy',\n",
    "             metrics=['acc']\n",
    "             )\n",
    "\n",
    "model.fit(partial_x_train,\n",
    "          partial_y_train,\n",
    "          epochs=20,\n",
    "          batch_size=128,\n",
    "          validation_data=(x_val, y_val)\n",
    "         )"
   ]
  },
  {
   "cell_type": "code",
   "execution_count": 23,
   "metadata": {},
   "outputs": [
    {
     "name": "stdout",
     "output_type": "stream",
     "text": [
      "2246/2246 [==============================] - 0s 75us/sample - loss: 1.8227 - acc: 0.6981\n"
     ]
    }
   ],
   "source": [
    "results = model.evaluate(x_test, one_hot_test_labels)\n"
   ]
  }
 ],
 "metadata": {
  "kernelspec": {
   "display_name": "Python 3",
   "language": "python",
   "name": "python3"
  },
  "language_info": {
   "codemirror_mode": {
    "name": "ipython",
    "version": 3
   },
   "file_extension": ".py",
   "mimetype": "text/x-python",
   "name": "python",
   "nbconvert_exporter": "python",
   "pygments_lexer": "ipython3",
   "version": "3.7.9"
  }
 },
 "nbformat": 4,
 "nbformat_minor": 4
}
